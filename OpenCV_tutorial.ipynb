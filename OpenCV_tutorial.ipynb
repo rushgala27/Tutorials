{
 "cells": [
  {
   "cell_type": "code",
   "execution_count": 1,
   "id": "915d5500",
   "metadata": {},
   "outputs": [
    {
     "name": "stdout",
     "output_type": "stream",
     "text": [
      "Package Imported\n"
     ]
    }
   ],
   "source": [
    "# Importing cv2 package\n",
    "\n",
    "import cv2\n",
    "print(\"Package Imported\")"
   ]
  },
  {
   "cell_type": "code",
   "execution_count": 1,
   "id": "dd65888c",
   "metadata": {
    "scrolled": true
   },
   "outputs": [
    {
     "data": {
      "text/plain": [
       "-1"
      ]
     },
     "execution_count": 1,
     "metadata": {},
     "output_type": "execute_result"
    }
   ],
   "source": [
    "# Reading and showing image\n",
    "import cv2\n",
    "\n",
    "img = cv2.imread(\"images/opencv_img.jpg\")\n",
    "\n",
    "cv2.imshow(\"Video\",img)\n",
    "cv2.waitKey(0)\n"
   ]
  },
  {
   "cell_type": "code",
   "execution_count": 2,
   "id": "01d1b6cf",
   "metadata": {},
   "outputs": [],
   "source": [
    "# Reading and showing video\n",
    "import cv2\n",
    "\n",
    "cap = cv2.VideoCapture(\"images/opencv_video.mp4\")\n",
    "\n",
    "# while True:\n",
    "#     success,img = cap.read()\n",
    "#     cv2.imshow(\"Video\",img)\n",
    "#     key = cv2.waitKey(1) & 0xFF\n",
    "#     if key==ord('q'):\n",
    "#         break\n",
    "\n",
    "# cv2.destroyAllWindows()\n",
    "\n",
    "while True:\n",
    "    check, frame = cap.read()\n",
    "    # print(frame)\n",
    "    # print(check)\n",
    "    if check:\n",
    "        cv2.imshow(\"Capturing\", frame)\n",
    "        key = cv2.waitKey(1)\n",
    "    else:\n",
    "        break\n",
    "    if (cv2.waitKey(1) & 0xFF)==ord('q'):\n",
    "        break\n",
    "\n",
    "cap.release()\n",
    "cv2.destroyAllWindows()\n"
   ]
  },
  {
   "cell_type": "code",
   "execution_count": 3,
   "id": "7c714d51",
   "metadata": {},
   "outputs": [],
   "source": [
    "# Reading and showing webcam\n",
    "import cv2\n",
    "\n",
    "cap = cv2.VideoCapture(0)\n",
    "cap.set(3,640)\n",
    "cap.set(4,480)\n",
    "\n",
    "while True:\n",
    "    success,img = cap.read()\n",
    "    cv2.imshow(\"Video\",img)\n",
    "    key = cv2.waitKey(1) & 0xFF\n",
    "    if key==ord('q'):\n",
    "        break\n",
    "\n",
    "cap.release()\n",
    "cv2.destroyAllWindows()"
   ]
  },
  {
   "cell_type": "code",
   "execution_count": 3,
   "id": "52f2e42e",
   "metadata": {},
   "outputs": [
    {
     "data": {
      "text/plain": [
       "-1"
      ]
     },
     "execution_count": 3,
     "metadata": {},
     "output_type": "execute_result"
    }
   ],
   "source": [
    "# Gray and Blurring image\n",
    "\n",
    "import cv2\n",
    "\n",
    "img = cv2.imread(\"images/opencv_img2.jpg\")\n",
    "img = cv2.resize(img, (960, 540)) \n",
    "cv2.imshow(\"Original Image\",img)\n",
    "\n",
    "imgGray = cv2.cvtColor(img,cv2.COLOR_BGR2GRAY)\n",
    "cv2.imshow(\"Gray Image\",imgGray)\n",
    "\n",
    "imgBlur = cv2.GaussianBlur(imgGray,(7,7),0)\n",
    "cv2.imshow(\"Blur Image\",imgBlur)\n",
    "\n",
    "cv2.waitKey(0)"
   ]
  },
  {
   "cell_type": "code",
   "execution_count": 4,
   "id": "57520708",
   "metadata": {},
   "outputs": [
    {
     "data": {
      "text/plain": [
       "-1"
      ]
     },
     "execution_count": 4,
     "metadata": {},
     "output_type": "execute_result"
    }
   ],
   "source": [
    "# Image Canny with Dilation and Erosion of canny image \n",
    "\n",
    "import cv2\n",
    "import numpy as np\n",
    "\n",
    "img = cv2.imread(\"images/opencv_img2.jpg\")\n",
    "img = cv2.resize(img, (960, 540)) \n",
    "cv2.imshow(\"Original Image\",img)\n",
    "\n",
    "imgCanny = cv2.Canny(img,100,100)\n",
    "cv2.imshow(\"Canny Image\",imgCanny)\n",
    "\n",
    "kernel = np.ones((5,5),np.uint8)\n",
    "imgDilation = cv2.dilate(imgCanny,kernel,iterations=1)\n",
    "cv2.imshow(\"Image dilation\",imgDilation)\n",
    "\n",
    "imgEroded = cv2.erode(imgCanny,kernel,iterations=1)\n",
    "cv2.imshow(\"Image eroded\",imgEroded)\n",
    "\n",
    "cv2.waitKey(0)"
   ]
  },
  {
   "cell_type": "code",
   "execution_count": 15,
   "id": "c6943a3e",
   "metadata": {},
   "outputs": [
    {
     "name": "stdout",
     "output_type": "stream",
     "text": [
      "(3240, 4320, 3)\n"
     ]
    },
    {
     "data": {
      "text/plain": [
       "-1"
      ]
     },
     "execution_count": 15,
     "metadata": {},
     "output_type": "execute_result"
    }
   ],
   "source": [
    "# Resizing and Cropping the image\n",
    "\n",
    "import cv2\n",
    "import numpy as np\n",
    "\n",
    "img = cv2.imread(\"images/opencv_img2.jpg\")\n",
    "# cv2.imshow(\"Original Image\",img)\n",
    "print(img.shape)\n",
    "\n",
    "imgResize = cv2.resize(img,(800,600))\n",
    "cv2.imshow(\"Resized Image\",imgResize)\n",
    "\n",
    "imgCropped = imgResize[:300,200:500]\n",
    "cv2.imshow(\"Cropped Image\",imgCropped)\n",
    "\n",
    "cv2.waitKey(0)"
   ]
  },
  {
   "cell_type": "code",
   "execution_count": 5,
   "id": "bb51f892",
   "metadata": {},
   "outputs": [
    {
     "data": {
      "text/plain": [
       "-1"
      ]
     },
     "execution_count": 5,
     "metadata": {},
     "output_type": "execute_result"
    }
   ],
   "source": [
    "# Drawing shapes and putting test on image\n",
    "\n",
    "import cv2\n",
    "import numpy as np\n",
    "\n",
    "img = np.zeros((512,512,3),np.uint8)\n",
    "# print(img.shape)\n",
    "# img[200:300,100:300] = 255,0,0\n",
    "# img[:] = 255,0,0\n",
    "\n",
    "cv2.line(img,(0,0),(img.shape[1],img.shape[0]),(0,255,0),5)\n",
    "\n",
    "cv2.rectangle(img,(10,10),(250,350),(255,0,0),4)\n",
    "\n",
    "cv2.circle(img,(200,200),30,(0,0,255),4)\n",
    "\n",
    "cv2.putText(img,\"My Name is Rushabh\",(10,50),cv2.FONT_HERSHEY_COMPLEX,1,(0,250,250),2)\n",
    "\n",
    "cv2.imshow(\"Image\",img)\n",
    "cv2.waitKey(0)\n"
   ]
  },
  {
   "cell_type": "code",
   "execution_count": 7,
   "id": "0bf047b9",
   "metadata": {},
   "outputs": [
    {
     "data": {
      "text/plain": [
       "-1"
      ]
     },
     "execution_count": 7,
     "metadata": {},
     "output_type": "execute_result"
    }
   ],
   "source": [
    "# Perspective Transformation of the image\n",
    "\n",
    "import cv2\n",
    "import numpy as np\n",
    "\n",
    "img = cv2.imread(\"images/cards.jpg\")\n",
    "img = cv2.resize(img,(800,600))\n",
    "\n",
    "width,height = 250,350\n",
    "pts1 = np.float32([[111,219],[287,188],[154,482],[352,440]])\n",
    "pts2 = np.float32([[0,0],[width,0],[0,height],[width,height]])\n",
    "matrix = cv2.getPerspectiveTransform(pts1,pts2)\n",
    "imgOutput = cv2.warpPerspective(img,matrix,(width,height))\n",
    "\n",
    "cv2.imshow(\"Image\",img)\n",
    "cv2.imshow(\"Output Image\",imgOutput)\n",
    "cv2.waitKey(0)"
   ]
  },
  {
   "cell_type": "code",
   "execution_count": 6,
   "id": "7773f2ac",
   "metadata": {},
   "outputs": [
    {
     "data": {
      "text/plain": [
       "-1"
      ]
     },
     "execution_count": 6,
     "metadata": {},
     "output_type": "execute_result"
    }
   ],
   "source": [
    "# Joining or stacking images horizontally and vertically\n",
    "\n",
    "import cv2\n",
    "import numpy as np\n",
    "\n",
    "img = cv2.imread(\"images/cards.jpg\")\n",
    "img = cv2.resize(img,(360,400))\n",
    "\n",
    "imgHor = np.hstack((img,img))\n",
    "cv2.imshow(\"Horizontal\",imgHor)\n",
    "\n",
    "imgVer = np.vstack((img,img))\n",
    "cv2.imshow(\"Vertical\",imgVer)\n",
    "\n",
    "cv2.waitKey(0)"
   ]
  },
  {
   "cell_type": "code",
   "execution_count": 5,
   "id": "1a7d1110",
   "metadata": {},
   "outputs": [],
   "source": [
    "# Adjusting the Hue, Saturation and Value of image to get desired output\n",
    "\n",
    "import cv2\n",
    "import numpy as np\n",
    "\n",
    "def empty(a):\n",
    "    pass\n",
    "\n",
    "cv2.namedWindow(\"Trackbars\")\n",
    "cv2.resizeWindow(\"Trackbars\",640,240)\n",
    "cv2.createTrackbar(\"Hue Min\",\"Trackbars\",0,179,empty)\n",
    "cv2.createTrackbar(\"Hue Max\",\"Trackbars\",123,179,empty)\n",
    "cv2.createTrackbar(\"Sat Min\",\"Trackbars\",66,255,empty)\n",
    "cv2.createTrackbar(\"Sat Max\",\"Trackbars\",255,255,empty)\n",
    "cv2.createTrackbar(\"Value Min\",\"Trackbars\",111,255,empty)\n",
    "cv2.createTrackbar(\"Value Max\",\"Trackbars\",255,255,empty)\n",
    "\n",
    "while True:\n",
    "    img = cv2.imread(\"images/lambo.jpg\")\n",
    "    imgHSV = cv2.cvtColor(img,cv2.COLOR_BGR2HSV)\n",
    "    h_min = cv2.getTrackbarPos(\"Hue Min\",\"Trackbars\")\n",
    "    h_max = cv2.getTrackbarPos(\"Hue Max\",\"Trackbars\")\n",
    "    s_min = cv2.getTrackbarPos(\"Sat Min\",\"Trackbars\")\n",
    "    s_max = cv2.getTrackbarPos(\"Sat Max\",\"Trackbars\")\n",
    "    v_min = cv2.getTrackbarPos(\"Value Min\",\"Trackbars\")\n",
    "    v_max = cv2.getTrackbarPos(\"Value Max\",\"Trackbars\")\n",
    "\n",
    "    lower = np.array([h_min,s_min,v_min])\n",
    "    upper = np.array([h_max,s_max,v_max])\n",
    "    mask = cv2.inRange(imgHSV,lower,upper)\n",
    "\n",
    "    imgResult = cv2.bitwise_and(img,img,mask=mask)\n",
    "\n",
    "    cv2.imshow(\"Image\",img)\n",
    "    cv2.imshow(\"HSV Image\",imgHSV)\n",
    "    cv2.imshow(\"Mask Image\",mask)\n",
    "    cv2.imshow(\"Result Image\",imgResult)\n",
    "    if cv2.waitKey(1)==ord('q'):\n",
    "        break\n",
    "\n",
    "cv2.destroyAllWindows()"
   ]
  },
  {
   "cell_type": "code",
   "execution_count": 2,
   "id": "07b436fc",
   "metadata": {},
   "outputs": [
    {
     "data": {
      "text/plain": [
       "-1"
      ]
     },
     "execution_count": 2,
     "metadata": {},
     "output_type": "execute_result"
    }
   ],
   "source": [
    "# Drawing Contours on an image - identifying shape, drawing bounded rectangle, drawing countour of shape(border type)\n",
    "\n",
    "import cv2\n",
    "import numpy as np\n",
    "\n",
    "def getContours(img):\n",
    "    contours,hierarchy = cv2.findContours(img,cv2.RETR_EXTERNAL,cv2.CHAIN_APPROX_NONE)\n",
    "    for cnt in contours:\n",
    "        area = cv2.contourArea(cnt)\n",
    "        # print(area)\n",
    "        if area>500:\n",
    "            cv2.drawContours(imgContour,cnt,-1,(255,0,0),3)\n",
    "            peri = cv2.arcLength(cnt,True)\n",
    "            # print(peri)\n",
    "            approx = cv2.approxPolyDP(cnt,0.02*peri,True)\n",
    "            # print(len(approx))\n",
    "            objCor = len(approx)\n",
    "            x,y,w,h = cv2.boundingRect(approx)\n",
    "            objecttype = \"None\"\n",
    "            if objCor==3:\n",
    "                objecttype = \"Tri\"\n",
    "            elif objCor==4:\n",
    "                aspectratio = w/float(h)\n",
    "                if aspectratio>0.95 and aspectratio<1.05:\n",
    "                    objecttype = \"Square\"\n",
    "                else:\n",
    "                    objecttype = \"Rect\"\n",
    "            elif objCor>4:\n",
    "                objecttype = \"Circle\"\n",
    "            cv2.rectangle(imgContour,(x,y),(x+w,y+h),(0,0,255),2)\n",
    "            cv2.putText(imgContour,objecttype,(x+(w//2)-10,y+(h//2)-10),cv2.FONT_HERSHEY_COMPLEX,0.5,(0,0,0),2)\n",
    "\n",
    "img = cv2.imread(\"images/shapes1.jpg\")\n",
    "imgRes = cv2.resize(img,(430,600))\n",
    "img = imgRes[75:560,30:400]\n",
    "\n",
    "imgContour = img.copy()\n",
    "imgGray = cv2.cvtColor(img,cv2.COLOR_BGR2GRAY)\n",
    "imgBlur = cv2.GaussianBlur(imgGray,(7,7),1)\n",
    "imgCanny = cv2.Canny(imgBlur,50,50)\n",
    "getContours(imgCanny)\n",
    "\n",
    "imgHor = np.hstack((imgGray,imgBlur,imgCanny))\n",
    "cv2.imshow(\"Contours\",imgContour)\n",
    "#cv2.imshow(\"Horizontal\",imgHor)\n",
    "cv2.imshow(\"Original\",img)\n",
    "# cv2.imshow(\"Gray\",imgGray)\n",
    "# cv2.imshow(\"Blur\",imgBlur)\n",
    "\n",
    "cv2.waitKey(0)"
   ]
  },
  {
   "cell_type": "code",
   "execution_count": 1,
   "id": "384635ca",
   "metadata": {},
   "outputs": [
    {
     "data": {
      "text/plain": [
       "-1"
      ]
     },
     "execution_count": 1,
     "metadata": {},
     "output_type": "execute_result"
    }
   ],
   "source": [
    "# Face Detection - can use similar method for other detections\n",
    "\n",
    "import cv2\n",
    "import numpy as np\n",
    "\n",
    "faceCascade = cv2.CascadeClassifier(cv2.data.haarcascades + \"haarcascade_frontalface_default.xml\")\n",
    "# print(faceCascade.empty())\n",
    "img = cv2.imread(\"images/faces.png\")\n",
    "img = cv2.resize(img,(400,350))\n",
    "imgGray = cv2.cvtColor(img,cv2.COLOR_BGR2GRAY)\n",
    "\n",
    "faces = faceCascade.detectMultiScale(imgGray,1.1,4)\n",
    "\n",
    "for (x,y,w,h) in faces:\n",
    "    cv2.rectangle(img,(x,y),(x+w,y+h),(0,0,255),2)\n",
    "\n",
    "\n",
    "cv2.imshow(\"Original\",img)\n",
    "cv2.waitKey(0)"
   ]
  },
  {
   "cell_type": "code",
   "execution_count": 16,
   "id": "794bac45",
   "metadata": {},
   "outputs": [],
   "source": [
    "#Used it for proper detection of colour and its contour for Virtual Paint project\n",
    "\n",
    "import cv2\n",
    "import numpy as np\n",
    "\n",
    "cap = cv2.VideoCapture(0)\n",
    "cap.set(3,300)\n",
    "cap.set(4,200)\n",
    "cap.set(10,150)\n",
    "\n",
    "def empty(a):\n",
    "    pass\n",
    "\n",
    "cv2.namedWindow(\"Trackbars\")\n",
    "cv2.resizeWindow(\"Trackbars\",640,240)\n",
    "cv2.createTrackbar(\"Hue Min\",\"Trackbars\",0,179,empty)\n",
    "cv2.createTrackbar(\"Hue Max\",\"Trackbars\",123,179,empty)\n",
    "cv2.createTrackbar(\"Sat Min\",\"Trackbars\",66,255,empty)\n",
    "cv2.createTrackbar(\"Sat Max\",\"Trackbars\",255,255,empty)\n",
    "cv2.createTrackbar(\"Value Min\",\"Trackbars\",111,255,empty)\n",
    "cv2.createTrackbar(\"Value Max\",\"Trackbars\",255,255,empty)\n",
    "\n",
    "while True:\n",
    "    success,img = cap.read()\n",
    "    imgHSV = cv2.cvtColor(img,cv2.COLOR_BGR2HSV)\n",
    "    h_min = cv2.getTrackbarPos(\"Hue Min\",\"Trackbars\")\n",
    "    h_max = cv2.getTrackbarPos(\"Hue Max\",\"Trackbars\")\n",
    "    s_min = cv2.getTrackbarPos(\"Sat Min\",\"Trackbars\")\n",
    "    s_max = cv2.getTrackbarPos(\"Sat Max\",\"Trackbars\")\n",
    "    v_min = cv2.getTrackbarPos(\"Value Min\",\"Trackbars\")\n",
    "    v_max = cv2.getTrackbarPos(\"Value Max\",\"Trackbars\")\n",
    "\n",
    "    lower = np.array([h_min,s_min,v_min])\n",
    "    upper = np.array([h_max,s_max,v_max])\n",
    "    mask = cv2.inRange(imgHSV,lower,upper)\n",
    "    imgResult = cv2.bitwise_and(img,img,mask=mask)\n",
    "    \n",
    "    mask = cv2.cvtColor(mask,cv2.COLOR_GRAY2BGR)\n",
    "    hStack = np.hstack([img,mask,imgResult])\n",
    "    # cv2.imshow(\"Image\",img)\n",
    "    # cv2.imshow(\"HSV Image\",imgHSV)\n",
    "    # cv2.imshow(\"Mask Image\",mask)\n",
    "    # cv2.imshow(\"Result Image\",imgResult)\n",
    "    cv2.imshow(\"Horizontal Stacking\",hStack)\n",
    "    key = cv2.waitKey(1) & 0xFF\n",
    "    if key==ord('q'):\n",
    "        break\n",
    "\n",
    "cap.release()\n",
    "cv2.destroyAllWindows()"
   ]
  }
 ],
 "metadata": {
  "kernelspec": {
   "display_name": "Python 3.7.9 64-bit (microsoft store)",
   "language": "python",
   "name": "python3"
  },
  "language_info": {
   "codemirror_mode": {
    "name": "ipython",
    "version": 3
   },
   "file_extension": ".py",
   "mimetype": "text/x-python",
   "name": "python",
   "nbconvert_exporter": "python",
   "pygments_lexer": "ipython3",
   "version": "3.7.9"
  },
  "vscode": {
   "interpreter": {
    "hash": "edb0d1ad0ff655c9ac0b12bdca16315991a94b1f6ef75f9262390e6df6500fba"
   }
  }
 },
 "nbformat": 4,
 "nbformat_minor": 5
}
