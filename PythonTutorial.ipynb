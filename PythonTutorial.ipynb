{
 "cells": [
  {
   "cell_type": "code",
   "execution_count": null,
   "metadata": {
    "colab": {
     "base_uri": "https://localhost:8080/"
    },
    "id": "EmwA4FvW6hBS",
    "outputId": "a331240f-f971-4559-adcf-4f0fb3b2d8c7"
   },
   "outputs": [
    {
     "name": "stdout",
     "output_type": "stream",
     "text": [
      "Hello world\n"
     ]
    }
   ],
   "source": [
    "print(\"Hello world\")"
   ]
  },
  {
   "cell_type": "code",
   "execution_count": null,
   "metadata": {
    "colab": {
     "base_uri": "https://localhost:8080/"
    },
    "id": "wWadgGoh9th4",
    "outputId": "d5bba602-9e1e-4796-fe76-27642a3416d5"
   },
   "outputs": [
    {
     "name": "stdout",
     "output_type": "stream",
     "text": [
      "Hello world\n"
     ]
    }
   ],
   "source": [
    "print('Hello world')"
   ]
  },
  {
   "cell_type": "code",
   "execution_count": null,
   "metadata": {
    "colab": {
     "base_uri": "https://localhost:8080/"
    },
    "id": "sUFurHJW-9EJ",
    "outputId": "97b70cce-0586-4dd8-b494-b636a95084ac"
   },
   "outputs": [
    {
     "name": "stdout",
     "output_type": "stream",
     "text": [
      "VJTI\n"
     ]
    }
   ],
   "source": [
    "if 2 > 1:\n",
    "  print(\"VJTI\")"
   ]
  },
  {
   "cell_type": "code",
   "execution_count": null,
   "metadata": {
    "colab": {
     "base_uri": "https://localhost:8080/"
    },
    "id": "ll2GvIR95W_2",
    "outputId": "fc2a0802-a4ad-406b-c2a5-f4307440b897"
   },
   "outputs": [
    {
     "name": "stdout",
     "output_type": "stream",
     "text": [
      "<class 'int'>\n",
      "1.2\n",
      "<class 'float'>\n",
      "Hello world\n",
      "<class 'str'>\n",
      "H\n",
      "<class 'str'>\n"
     ]
    }
   ],
   "source": [
    "# Variable declaration\n",
    "# This is my programme\n",
    "# I am Sandeep\n",
    "\n",
    "\"\"\"\n",
    "Variable declaration\n",
    "This is my programme\n",
    "I am Sandeep\n",
    "\"\"\"\n",
    "\n",
    "a = 1\n",
    "#print(a)\n",
    "print(type(a))   # Printing the type of variable\n",
    "\n",
    "a = 1.2\n",
    "print(a)\n",
    "print(type(a))\n",
    "\n",
    "a = \"Hello world\"\n",
    "print(a)\n",
    "print(type(a))\n",
    "\n",
    "a = 'H'\n",
    "print(a)\n",
    "print(type(a))"
   ]
  },
  {
   "cell_type": "code",
   "execution_count": null,
   "metadata": {
    "colab": {
     "base_uri": "https://localhost:8080/"
    },
    "id": "AzxKtayx9hm-",
    "outputId": "29f30d6a-4531-4585-b052-6a021d3f16f0"
   },
   "outputs": [
    {
     "name": "stdout",
     "output_type": "stream",
     "text": [
      "1 <class 'str'>\n",
      "1 <class 'int'>\n",
      "1.0 <class 'float'>\n",
      "1 <class 'str'>\n",
      "1 <class 'int'>\n",
      "1.0 <class 'float'>\n"
     ]
    }
   ],
   "source": [
    "# Type casting\n",
    "# Case-sensitive\n",
    "# Variable name must start with letter or underscore character. Thus, variable name cannot start with numbers.\n",
    "# Alpha-numeric characters and underscore (A-z, 0-9, _) is allowed.\n",
    "\n",
    "a = str(1)\n",
    "b = int(1)\n",
    "c = float(1)\n",
    "A = str(1)\n",
    "B = int(1)\n",
    "C = float(1)\n",
    "\n",
    "print(a, type(a))\n",
    "print(b, type(b))\n",
    "print(c, type(c))\n",
    "print(A, type(A))\n",
    "print(B, type(B))\n",
    "print(C, type(C))"
   ]
  },
  {
   "cell_type": "code",
   "execution_count": null,
   "metadata": {
    "id": "5sYmx5Qx9hk-"
   },
   "outputs": [],
   "source": [
    "# Legal variable\n",
    "\n",
    "myname = 'sandeep'\n",
    "my_name = 'sandeep'\n",
    "_my_name = 'sandeep'\n",
    "_myname = 'sandeep'\n",
    "myname_1 = 'sandeep'\n",
    "_myname_1 = 'sandeep'\n",
    "myName = 'sandep'\n",
    "MYNAME = 'sandeep'\n",
    "myname1 = 'sandeep'\n",
    "\n",
    "instituteStudentRollNumber = 172000  # First letter is small other starting letter is captial \"Camel case\"\n",
    "InstituteStudentRollNumber = 172000  # Starting letter is captial \"Pascal case\"\n",
    "institute_student_roll_number = 172000  # Letters are separeted by _ \"Snake case\"\n",
    "\n",
    "#1myname = 'sandeep'\n",
    "#my$name = 'sandeep'\n",
    "#my name = \"sandeep\""
   ]
  },
  {
   "cell_type": "code",
   "execution_count": null,
   "metadata": {
    "colab": {
     "base_uri": "https://localhost:8080/"
    },
    "id": "oheJUvTj5W9t",
    "outputId": "d846761a-a78c-41a1-ae3e-8be17c41fe21"
   },
   "outputs": [
    {
     "name": "stdout",
     "output_type": "stream",
     "text": [
      "1 2 3\n",
      "1 2 3\n",
      "1 2.0 sandeep\n",
      "1 1 1\n",
      "Before swapping 1 2\n",
      "After swapping 2 1\n"
     ]
    }
   ],
   "source": [
    "a = 1\n",
    "b = 2\n",
    "c = 3\n",
    "print(a,b,c)\n",
    "\n",
    "a, b, c = 1, 2, 3\n",
    "print(a,b,c)\n",
    "\n",
    "a, b, c = 1, 2.0, 'sandeep'\n",
    "print(a,b,c)\n",
    "\n",
    "#a, b, c = 1, 2\n",
    "#print(a,b,c)\n",
    "\n",
    "a = b = c = 1\n",
    "print(a,b,c)\n",
    "\n",
    "a, b = 1, 2\n",
    "print(\"Before swapping\", a,b)\n",
    "a, b = b, a\n",
    "print(\"After swapping\",a,b)"
   ]
  },
  {
   "cell_type": "code",
   "execution_count": null,
   "metadata": {
    "colab": {
     "base_uri": "https://localhost:8080/"
    },
    "id": "4FDIcgSGFHtk",
    "outputId": "8458a12a-39da-4677-a036-8a0bd4001a34"
   },
   "outputs": [
    {
     "name": "stdout",
     "output_type": "stream",
     "text": [
      "[1, 2, 3] <class 'list'>\n",
      "[1, 2.0, 'sandeep'] <class 'list'>\n",
      "1\n",
      "2.0\n",
      "sandeep\n"
     ]
    }
   ],
   "source": [
    "# Collection value (list)\n",
    "a = [1,2,3]\n",
    "print(a, type(a))\n",
    "\n",
    "a = [1,2.0,'sandeep']\n",
    "print(a, type(a))\n",
    "\n",
    "x, y, z = a    #Unpack the collection\n",
    "print(x)\n",
    "print(y)\n",
    "print(z)"
   ]
  },
  {
   "cell_type": "code",
   "execution_count": null,
   "metadata": {
    "colab": {
     "base_uri": "https://localhost:8080/"
    },
    "id": "odTwMzDtHZkK",
    "outputId": "2d4489d0-dd31-4e5d-97d0-5f171660306f"
   },
   "outputs": [
    {
     "name": "stdout",
     "output_type": "stream",
     "text": [
      "Sandeep Udmale\n",
      "SandeepUdmale\n",
      "Sandeep Udmale\n",
      "UdmaleSandeep\n",
      "Udmale Sandeep\n"
     ]
    }
   ],
   "source": [
    "a = 'Udmale'\n",
    "print(\"Sandeep\", a)\n",
    "\n",
    "a = 'Udmale'\n",
    "b = 'Sandeep'\n",
    "print(b+a)\n",
    "\n",
    "a = 'Udmale'\n",
    "b = 'Sandeep'\n",
    "print(b +\" \"+a)\n",
    "\n",
    "a = 'Udmale'\n",
    "b = 'Sandeep'\n",
    "c= a + b\n",
    "print(c)\n",
    "\n",
    "\n",
    "a = 'Udmale'\n",
    "b = 'Sandeep'\n",
    "c= a +' '+ b\n",
    "print(c)"
   ]
  },
  {
   "cell_type": "code",
   "execution_count": null,
   "metadata": {
    "colab": {
     "base_uri": "https://localhost:8080/"
    },
    "id": "fnC4Kmn-JAdT",
    "outputId": "28c73bb9-a82d-4133-9e9d-d6ae837c10d1"
   },
   "outputs": [
    {
     "name": "stdout",
     "output_type": "stream",
     "text": [
      "12\n",
      "8\n",
      "20\n",
      "5.0\n",
      "The value of a: 2 and b: 10\n",
      "The value of a: 2 and b: 10\n",
      "The value of a: 2 and b: 10\n",
      "The value of a: 2 and b: 10\n"
     ]
    }
   ],
   "source": [
    "a = 2\n",
    "b = 10\n",
    "print(b+a)\n",
    "print(b-a)\n",
    "print(b*a)\n",
    "print(b/a)\n",
    "\n",
    "#a = '2'\n",
    "#b = 10\n",
    "#print(b+a)\n",
    "\n",
    "a = '2'\n",
    "b = 10\n",
    "print(f'The value of a: {a} and b: {b}')\n",
    "print(F'The value of a: {a} and b: {b}')\n",
    "print('The value of a: '+ a +' and b:', b)\n",
    "print('The value of a: {} and b: {}'.format(a,b))"
   ]
  },
  {
   "cell_type": "code",
   "execution_count": null,
   "metadata": {
    "colab": {
     "base_uri": "https://localhost:8080/"
    },
    "id": "qlPG2MQlNZL-",
    "outputId": "3fa56927-ab60-4dc6-f971-340fd9d54887"
   },
   "outputs": [
    {
     "name": "stdout",
     "output_type": "stream",
     "text": [
      "1 <class 'int'>\n",
      "1.2 <class 'float'>\n",
      "VJTI <class 'str'>\n",
      "(1+1j) <class 'complex'>\n",
      "[1, 2, 3] <class 'list'>\n",
      "(1, 2, 3) <class 'tuple'>\n",
      "range(0, 5) <class 'range'>\n",
      "True <class 'bool'>\n",
      "{'s1': 'sandeep', 's2': 'udmale', 's3': 'vjti'} <class 'dict'>\n",
      "{1, 2, 3} <class 'set'>\n"
     ]
    }
   ],
   "source": [
    "# Data Type\n",
    "a = 1\n",
    "print(a, type(a))\n",
    "\n",
    "a = 1.2\n",
    "print(a, type(a))\n",
    "\n",
    "a = 'VJTI'\n",
    "print(a, type(a))\n",
    "\n",
    "a = 1+1j\n",
    "print(a, type(a))\n",
    "\n",
    "a = [1, 2, 3]\n",
    "print(a, type(a))\n",
    "\n",
    "a = (1, 2, 3)\n",
    "print(a, type(a))\n",
    "\n",
    "a = range(5)\n",
    "print(a, type(a))\n",
    "\n",
    "a = True\n",
    "print(a, type(a))\n",
    "\n",
    "a = {'s1':'sandeep', 's2':'udmale', 's3':'vjti'} #key value pair\n",
    "print(a, type(a))\n",
    "\n",
    "a = {1, 2, 3}\n",
    "print(a, type(a))"
   ]
  },
  {
   "cell_type": "code",
   "execution_count": null,
   "metadata": {
    "colab": {
     "base_uri": "https://localhost:8080/"
    },
    "id": "YxAGDhG3QZ0q",
    "outputId": "c231f21f-53b7-47cd-d6de-6c368bb01c5e"
   },
   "outputs": [
    {
     "name": "stdout",
     "output_type": "stream",
     "text": [
      "1 <class 'int'>\n",
      "123456789123 <class 'int'>\n",
      "-20 <class 'int'>\n",
      "1.0 <class 'float'>\n",
      "123456789123.2 <class 'float'>\n",
      "-20.1 <class 'float'>\n",
      "100.0 <class 'float'>\n",
      "120000000000.0 <class 'float'>\n",
      "-20100000.0 <class 'float'>\n",
      "(1+2j) <class 'complex'>\n",
      "10j <class 'complex'>\n",
      "(-0-20j) <class 'complex'>\n",
      "1.0 <class 'float'> 2.0 <class 'float'>\n",
      "(1+2j) <class 'complex'>\n",
      "10j <class 'complex'>\n",
      "0j <class 'complex'>\n",
      "(100+0j) <class 'complex'>\n",
      "(1-1j) <class 'complex'>\n"
     ]
    }
   ],
   "source": [
    "a = 1\n",
    "b = 123456789123\n",
    "c = -20\n",
    "print(a, type(a))\n",
    "print(b, type(b))\n",
    "print(c, type(c))\n",
    "\n",
    "a = 1.0\n",
    "b = 123456789123.2\n",
    "c = -20.10\n",
    "print(a, type(a))\n",
    "print(b, type(b))\n",
    "print(c, type(c))\n",
    "\n",
    "a = 1e2\n",
    "b = 12E10\n",
    "c = -20.1e6\n",
    "print(a, type(a))\n",
    "print(b, type(b))\n",
    "print(c, type(c))\n",
    "\n",
    "a = 1 + 2j\n",
    "b = 10j\n",
    "c = -20j\n",
    "print(a, type(a))\n",
    "print(b, type(b))\n",
    "print(c, type(c))\n",
    "print(a.real, type(a.real), a.imag, type(a.imag))\n",
    "\n",
    "a = complex(1, 2)\n",
    "b = complex(0,10)\n",
    "c = complex()\n",
    "d = complex(100)\n",
    "e = complex('1-1j')\n",
    "print(a, type(a))\n",
    "print(b, type(b))\n",
    "print(c, type(c))\n",
    "print(d, type(d))\n",
    "print(e, type(e))"
   ]
  },
  {
   "cell_type": "code",
   "execution_count": null,
   "metadata": {
    "colab": {
     "base_uri": "https://localhost:8080/"
    },
    "id": "P9SLyvI9TwYq",
    "outputId": "13755e54-be7b-4540-9283-90dfab8abfd7"
   },
   "outputs": [
    {
     "name": "stdout",
     "output_type": "stream",
     "text": [
      "258\n",
      "8.0\n",
      "7.0710678118654755\n"
     ]
    }
   ],
   "source": [
    "import random, math\n",
    "\n",
    "print(random.randrange(1.0,500.0))\n",
    "print(math.pow(2,3))\n",
    "print(math.sqrt(50))"
   ]
  },
  {
   "cell_type": "code",
   "execution_count": null,
   "metadata": {
    "colab": {
     "base_uri": "https://localhost:8080/"
    },
    "id": "TEnN0cHtTwWv",
    "outputId": "62777829-d0d1-4821-993c-d407d73e46dc"
   },
   "outputs": [
    {
     "name": "stdout",
     "output_type": "stream",
     "text": [
      "hello world <class 'str'>\n",
      " Hi, I am sandeep udmale.\n",
      "Teaching to S Y B Tech IT. \n",
      "The course is PDL.  <class 'str'>\n"
     ]
    }
   ],
   "source": [
    "b = \"\"\" Hi, I am sandeep udmale.\n",
    "Teaching to S Y B Tech IT. \n",
    "The course is PDL. \"\"\"\n",
    "\n",
    "a = 'hello world'\n",
    "print(a, type(a))\n",
    "print(b, type(b))"
   ]
  },
  {
   "cell_type": "code",
   "execution_count": null,
   "metadata": {
    "colab": {
     "base_uri": "https://localhost:8080/"
    },
    "id": "NWPK-CongJo2",
    "outputId": "c900a791-b1f5-4c00-983c-4214a1154d6a"
   },
   "outputs": [
    {
     "name": "stdout",
     "output_type": "stream",
     "text": [
      "d\n",
      "Length of a: 11\n",
      "range(0, 11)\n",
      "h\n",
      "e\n",
      "l\n",
      "l\n",
      "o\n",
      " \n",
      "w\n",
      "o\n",
      "r\n",
      "l\n",
      "d\n",
      "h\n",
      "e\n",
      "l\n",
      "l\n",
      "o\n",
      " \n",
      "w\n",
      "o\n",
      "r\n",
      "l\n",
      "d\n",
      "h\n",
      "e\n",
      "l\n",
      "l\n",
      "o\n",
      " \n",
      "w\n",
      "o\n",
      "r\n",
      "l\n",
      "d\n"
     ]
    }
   ],
   "source": [
    "a = 'hello world'\n",
    "b = a[10]\n",
    "print(b)\n",
    "\n",
    "#a[0] = 'H'\n",
    "#print(a)\n",
    "\n",
    "print('Length of a:', len(a))\n",
    "print(range(0, len(a)))\n",
    "\n",
    "for i in range(0, len(a)):\n",
    "  print(a[i])\n",
    "\n",
    "for i in 'hello world':\n",
    "  print(i)\n",
    "\n",
    "for i in a:\n",
    "  print(i)"
   ]
  },
  {
   "cell_type": "code",
   "execution_count": null,
   "metadata": {
    "colab": {
     "base_uri": "https://localhost:8080/"
    },
    "id": "Z4MG_UQVjTX4",
    "outputId": "f917e96a-4b86-46f6-a131-8f41d28dffbd"
   },
   "outputs": [
    {
     "name": "stdout",
     "output_type": "stream",
     "text": [
      "True\n",
      "True\n",
      "Not present\n"
     ]
    }
   ],
   "source": [
    "# Checking the string\n",
    "a = 'I am sandeep. I am teaching to S Y B Tech IT'\n",
    "print('sandeep' in a)\n",
    "print('z' not in a)\n",
    "\n",
    "if 'sandeep' in a:\n",
    "  print('present')\n",
    "else:\n",
    "  print('Not present')"
   ]
  },
  {
   "cell_type": "code",
   "execution_count": null,
   "metadata": {
    "colab": {
     "base_uri": "https://localhost:8080/"
    },
    "id": "O5-3lz_1kyqs",
    "outputId": "cb1929f9-a98d-49b3-bbea-d1830a2eb3d2"
   },
   "outputs": [
    {
     "name": "stdout",
     "output_type": "stream",
     "text": [
      "lo\n",
      "hello\n",
      "hello\n",
      "world\n",
      "hello\n",
      "hello\n",
      "world\n",
      "hello world\n",
      "hlo\n",
      "worl\n"
     ]
    }
   ],
   "source": [
    "# Slicing\n",
    "a = 'hello world'\n",
    "print(a[3:5])\n",
    "print(a[0:5])\n",
    "print(a[:5])\n",
    "print(a[6:])\n",
    "print(a[-11:-6])\n",
    "print(a[:-6])\n",
    "print(a[-5:])\n",
    "print(a[:])\n",
    "print(a[0:5:2])\n",
    "print(a[-5:-1:1])"
   ]
  },
  {
   "cell_type": "code",
   "execution_count": null,
   "metadata": {
    "colab": {
     "base_uri": "https://localhost:8080/"
    },
    "id": "uoRa5dNhpAgx",
    "outputId": "2801aa1e-f7d4-4dbf-d667-56a8494603dc"
   },
   "outputs": [
    {
     "name": "stdout",
     "output_type": "stream",
     "text": [
      "HELLO WORLD!\n",
      "Hello World!\n",
      "hello world!\n",
      "Hello World!\n",
      "sandeep udmale\n",
      "eep udmale\n"
     ]
    }
   ],
   "source": [
    "# String operations\n",
    "a = 'Hello World!'\n",
    "print(a.upper())\n",
    "print(a)\n",
    "print(a.lower())\n",
    "print(a)\n",
    "\n",
    "a = '    sandeep udmale     '\n",
    "b = a.strip()\n",
    "print(b)\n",
    "\n"
   ]
  },
  {
   "cell_type": "code",
   "execution_count": null,
   "metadata": {
    "colab": {
     "base_uri": "https://localhost:8080/"
    },
    "id": "dsgnAlgzspVE",
    "outputId": "5498903e-8fd8-40c4-8118-b4d83aa01f0c"
   },
   "outputs": [
    {
     "name": "stdout",
     "output_type": "stream",
     "text": [
      "['Hello', 'World!', 'I', 'am', 'back']\n",
      "['Hello World! ', ' am back']\n",
      "['sandeep', 'udmale', 'vjti']\n",
      "sandeep$udmale$vjti\n"
     ]
    }
   ],
   "source": [
    "a = 'Hello World! I am back'\n",
    "print(a.split(' '))\n",
    "print(a.split('I'))\n",
    "a = 'sandeep$udmale$vjti'\n",
    "print(a.split('$'))\n",
    "print(a)"
   ]
  },
  {
   "cell_type": "code",
   "execution_count": null,
   "metadata": {
    "colab": {
     "base_uri": "https://localhost:8080/"
    },
    "id": "NuZe8Mq-spTQ",
    "outputId": "f0397c0d-b39f-4b2c-ad27-7eb63d4cf3b6"
   },
   "outputs": [
    {
     "name": "stdout",
     "output_type": "stream",
     "text": [
      "Hello world, it's time to rock\n",
      "Hello world, it's time to rock\n",
      "Hello world,\n",
      "it's time to rock\n",
      "Hello world \\\n",
      "Hello\tworld\n",
      "Hello, I am sandeep \r\n",
      "sandeep world \n",
      "Hello \bworld\n",
      "e\n",
      "IJK\n"
     ]
    }
   ],
   "source": [
    "#Escape characters\n",
    "# \\' = '\n",
    "# \\n = New line\n",
    "# \\\\ = \\\n",
    "# \\t = Tab\n",
    "# \\r = Carriage return\n",
    "# \\b = Backspace\n",
    "# \\xhh = Hex value\n",
    "# \\ooo = Octal value\n",
    "\n",
    "a = 'Hello world, it\\'s time to rock'\n",
    "print(a)\n",
    "a = \"Hello world, it's time to rock\"\n",
    "print(a)\n",
    "a = 'Hello world,\\nit\\'s time to rock'\n",
    "print(a)\n",
    "a = 'Hello world \\\\'\n",
    "print(a)\n",
    "a = 'Hello\\tworld'\n",
    "print(a)\n",
    "a = 'Hello, I am sandeep \\rsandeep world '\n",
    "print(a)\n",
    "a = 'Hello \\bworld'\n",
    "print(a)\n",
    "a = '\\x65'\n",
    "print(a)\n",
    "a = '\\111\\112\\113'\n",
    "print(a)"
   ]
  },
  {
   "cell_type": "code",
   "execution_count": null,
   "metadata": {
    "colab": {
     "base_uri": "https://localhost:8080/"
    },
    "id": "IvDNdOH96M6J",
    "outputId": "5deee8ff-e616-4f0d-e8cd-09f5544beeba"
   },
   "outputs": [
    {
     "name": "stdout",
     "output_type": "stream",
     "text": [
      "2\n",
      "5\n",
      "False\n",
      "True\n",
      "False\n",
      "False\n",
      "True\n",
      "False\n",
      "True\n",
      "['sandeep', 'udmale', 'vjti']\n",
      "sandeep$udmale$vjti\n",
      "hi          sandeep how are you?\n",
      "hi sandeep          how are you?\n",
      "['I', 'am', 'sandeep.', 'My', 'friend', 'name', 'is', 'sandeep.']\n",
      "['I am sandeep.', ' My friend name is sandeep.']\n",
      "['I am sandeep.', ' My friend name is sandeep.']\n",
      "True\n",
      "True\n",
      "5\n",
      "('I am ', 'sandeep', '. My friend name is sandeep.')\n",
      "I am sachin. My friend name is sachin.\n"
     ]
    }
   ],
   "source": [
    "# Operations of string\n",
    "\n",
    "a = 'I am sandeep. My friend name is sandeep.'\n",
    "b = \"sandeep123\"\n",
    "c = 'sandeep'\n",
    "d = '123'\n",
    "print(a.count('sandeep'))  # No. of times occurance of string\n",
    "print(a.index('sandeep'))  # Index value of string starting from particular location\n",
    "print(a.isalnum())  # space, &, #, %, ? ....  Check the characters are alphanumeric\n",
    "print(b.isalnum())\n",
    "print(a.isalpha())  # Check the characters are alphabets\n",
    "print(b.isalpha())\n",
    "print(c.isalpha())\n",
    "print(a.isdigit())    # Checks the characters are digit or not\n",
    "print(d.isdigit())\n",
    "\n",
    "a = 'sandeep$udmale$vjti'\n",
    "b = a.split('$')\n",
    "print(b)\n",
    "c = \"$\".join(b)\n",
    "print(c)\n",
    "\n",
    "a = '         sandeep         '\n",
    "print(\"hi\", a.rstrip(), \"how are you?\") # Eliminates the spaces from tail of the string\n",
    "print(\"hi\", a.lstrip(), \"how are you?\") # Eliminates the spaces from head of the string\n",
    "\n",
    "a = 'I am sandeep. My friend name is sandeep.'\n",
    "print(a.split())\n",
    "\n",
    "a = 'I am sandeep.\\n My friend name is sandeep.'\n",
    "print(a.splitlines())\n",
    "print(a.split('\\n'))\n",
    "\n",
    "print(a.startswith('I'))\n",
    "print(a.endswith('.'))\n",
    "print(a.find('sandeep'))\n",
    "\n",
    "a = 'I am sandeep. My friend name is sandeep.'\n",
    "print(a.partition('sandeep'))\n",
    "print(a.replace('sandeep', 'sachin'))"
   ]
  },
  {
   "cell_type": "code",
   "execution_count": null,
   "metadata": {
    "colab": {
     "base_uri": "https://localhost:8080/"
    },
    "id": "NuUK2FTMBkDF",
    "outputId": "e1d39748-0284-4436-c98f-ee5711ec0d9b"
   },
   "outputs": [
    {
     "name": "stdout",
     "output_type": "stream",
     "text": [
      "False\n",
      "True\n",
      "True\n",
      "True\n",
      "True\n",
      "False\n",
      "False\n",
      "False\n",
      "True\n",
      "False\n",
      "False\n",
      "False\n",
      "False\n"
     ]
    }
   ],
   "source": [
    "# boolean\n",
    "print(10 < 5)\n",
    "print(10 > 5)\n",
    "print(10 == 10)\n",
    "\n",
    "print(bool(10)) # evaluate the value \n",
    "print(bool('hello'))\n",
    "print(bool(()))\n",
    "print(bool([]))\n",
    "print(bool({}))\n",
    "print(bool(\"hello\"))\n",
    "print(bool(0))\n",
    "print(bool(\"\"))\n",
    "print(bool(None))\n",
    "\n",
    "a = 1.0\n",
    "print(isinstance(a, int))"
   ]
  },
  {
   "cell_type": "code",
   "execution_count": null,
   "metadata": {
    "colab": {
     "base_uri": "https://localhost:8080/"
    },
    "id": "Y1uN6hnnK8G7",
    "outputId": "b89d9403-068e-4988-df78-ed270455ba4e"
   },
   "outputs": [
    {
     "name": "stdout",
     "output_type": "stream",
     "text": [
      "7\n",
      "13\n",
      "13.0\n",
      "13.0\n",
      "30\n",
      "30.0\n",
      "2.5\n",
      "2.0\n",
      "2\n",
      "-3\n",
      "5\n",
      "19\n",
      "8\n",
      "0.6666666666666666\n",
      "1.6666666666666667\n",
      "194.22222222222223\n",
      "194.22222222222223\n"
     ]
    }
   ],
   "source": [
    "# Python Operators\n",
    "print(10 - 3)\n",
    "print(10 + 3)\n",
    "print(10 + 3.0)\n",
    "print(10 + 3.)\n",
    "print(10 * 3)\n",
    "print(10 * 3.0)\n",
    "print(5/2)\n",
    "print(4/2)\n",
    "print(53//24)   # Floor division\n",
    "print(-53//24)   # Floor division\n",
    "print(53%24)    # Modulus\n",
    "print(-53%24)    # Modulus\n",
    "print(2**3)     # Exponentiation\n",
    "print(2/3)\n",
    "print(5/3)\n",
    "print(212 - 32 * 5 / 9)   # Operator precedence  1) ** 2) - 3) *, /, //, % 4) +, -\n",
    "print(212 - (32*5) / 9)"
   ]
  },
  {
   "cell_type": "code",
   "execution_count": null,
   "metadata": {
    "colab": {
     "base_uri": "https://localhost:8080/"
    },
    "id": "WyEoONjWPoun",
    "outputId": "51e3b630-1279-4c92-b5d7-120dfcca7636"
   },
   "outputs": [
    {
     "name": "stdout",
     "output_type": "stream",
     "text": [
      "10\n",
      "15\n",
      "5\n",
      "50\n",
      "2.0\n",
      "2\n",
      "0\n",
      "100000\n",
      "14\n",
      "15\n",
      "0\n",
      "15\n",
      "2\n",
      "40\n"
     ]
    }
   ],
   "source": [
    "# Assignment operators\n",
    "a = 10\n",
    "print(a)\n",
    "\n",
    "a = 10\n",
    "a += 5  # a = a + 5\n",
    "print(a)\n",
    "\n",
    "a = 10\n",
    "a -= 5  # a = a - 5\n",
    "print(a)\n",
    "\n",
    "a = 10\n",
    "a *= 5  # a = a * 5\n",
    "print(a)\n",
    "\n",
    "a = 10\n",
    "a /= 5  # a = a / 5\n",
    "print(a)\n",
    "\n",
    "a = 10\n",
    "a //= 5  # a = a // 5\n",
    "print(a)\n",
    "\n",
    "a = 10\n",
    "a %= 5  # a = a % 5\n",
    "print(a)\n",
    "\n",
    "a = 10\n",
    "a **= 5  # a = a ** 5\n",
    "print(a)\n",
    "\n",
    "a = 2\n",
    "a *= 3 + 4  # = sign produce output then apply the multiplication\n",
    "print(a)\n",
    "\n",
    "a = 10\n",
    "a ^= 5  # a = a ^ 5  \n",
    "print(a)\n",
    "\n",
    "a = 10\n",
    "a &= 5  # a = a & 5  \n",
    "print(a)\n",
    "\n",
    "a = 10\n",
    "a |= 5  # a = a | 5  \n",
    "print(a)\n",
    "\n",
    "a = 10\n",
    "a >>= 2  #  \n",
    "print(a)\n",
    "\n",
    "a = 10\n",
    "a <<= 2  #\n",
    "print(a)\n"
   ]
  },
  {
   "cell_type": "code",
   "execution_count": null,
   "metadata": {
    "colab": {
     "base_uri": "https://localhost:8080/"
    },
    "id": "_EmXKOYUUILz",
    "outputId": "0afc3e32-7414-4e72-f2a6-6c455ca5fb1e"
   },
   "outputs": [
    {
     "name": "stdout",
     "output_type": "stream",
     "text": [
      "True\n",
      "False\n",
      "False\n",
      "False\n",
      "True\n",
      "True\n",
      "False\n",
      "True\n",
      "True\n"
     ]
    }
   ],
   "source": [
    "# Comparison\n",
    "a = 1\n",
    "b = 1\n",
    "print(a == b)\n",
    "print(a != b)\n",
    "print(a > b)\n",
    "print(a < b)\n",
    "print(a >= b)\n",
    "print(a <= b)\n",
    "print(a <= 1 and b >= 10)\n",
    "print(a <= 1 or b >= 10)\n",
    "print(not(a <= 1 and b >= 10))"
   ]
  },
  {
   "cell_type": "code",
   "execution_count": null,
   "metadata": {
    "colab": {
     "base_uri": "https://localhost:8080/"
    },
    "id": "xtlpZJ70VND9",
    "outputId": "d5488600-e41c-450e-bc9a-a2777a9c499b"
   },
   "outputs": [
    {
     "name": "stdout",
     "output_type": "stream",
     "text": [
      "<class 'list'>\n",
      "[1, 2, 3] [1, 2, 3]\n",
      "[1, 2, 3] [1, 2, 3] [1, 2, 3]\n",
      "1\n",
      "[100, 2, 3] [100, 2, 3] [100, 2, 3]\n",
      "[1, 2, 3] [1, 2, 3] <class 'list'> <class 'list'>\n",
      "[1, 2, 3] [100, 2, 3] <class 'list'> <class 'list'>\n",
      "1\n",
      "3 1\n",
      "[] <class 'list'>\n",
      "[1, 2, 3] ['1', '2', '3'] [True, False, True] [1.1, 2.2, 3.3] [1, '1', True, 100.1]\n",
      "<class 'list'> <class 'list'> <class 'list'> <class 'list'> <class 'list'>\n",
      "[1, 2, 3]\n",
      "<class 'list'>\n",
      "[100, 20, 30, 40, 50]\n",
      "[30, 40]\n",
      "False\n",
      "5\n",
      "100\n",
      "20\n",
      "240\n",
      "[20, 30, 40, 50, 100]\n",
      "[100, 20, 30, 40, 50]\n",
      "[1, 2, 3, 'Z']\n",
      "['Z', 1, 2, 3]\n",
      "[1, 2, 3, 1, 2, 3]\n"
     ]
    }
   ],
   "source": [
    "# List\n",
    "# Ordered, change the elements, duplicate entries are allowed\n",
    "a = [1, 2, 3]\n",
    "print(type(a))\n",
    "\n",
    "b = a\n",
    "print(a, b)\n",
    "\n",
    "c = b\n",
    "print(a, b, c)\n",
    "\n",
    "print(c[0])\n",
    "c[0] = 100\n",
    "print(a, b, c)\n",
    "\n",
    "a = [1, 2, 3]\n",
    "\n",
    "b = tuple(a)  # ()\n",
    "b = list(b)\n",
    "\n",
    "print(a, b, type(a), type(b))\n",
    "b[0] = 100\n",
    "print(a, b, type(a), type(b))\n",
    "\n",
    "a = [1, 2, 3]\n",
    "print(a[0])\n",
    "print(a[-1], a[-3])\n",
    "\n",
    "#print(a[100])\n",
    "\n",
    "a = []\n",
    "print(a, type(a))\n",
    "\n",
    "a = [1, 2, 3]\n",
    "b = ['1', '2', '3']\n",
    "c = [True, False, True]\n",
    "d = [1.1, 2.2, 3.3]\n",
    "e = [1, '1', True, 100.10]\n",
    "\n",
    "print(a, b, c, d, e)\n",
    "print(type(a), type(b), type(c), type(d), type(e))\n",
    "\n",
    "a = list((1, 2, 3))  # list() constructor\n",
    "print(a)\n",
    "print(type(a))\n",
    "\n",
    "a = [100, 20, 30, 40, 50]\n",
    "#a = ['A', 'B', 'C']\n",
    "print(a[:])\n",
    "print(a[2:4])\n",
    "print(10 in a)\n",
    "print(len(a))\n",
    "print(max(a))\n",
    "print(min(a))\n",
    "print(sum(a))\n",
    "print(sorted(a))\n",
    "print(a)\n",
    "\n",
    "a = [1, 2, 3]\n",
    "b = ['Z']\n",
    "c = 'Y'\n",
    "print(a + b)  # Concatenation operator (+)\n",
    "print(b + a)\n",
    "#print(a + c)\n",
    "\n",
    "print(a * 2)"
   ]
  },
  {
   "cell_type": "code",
   "execution_count": null,
   "metadata": {
    "colab": {
     "base_uri": "https://localhost:8080/"
    },
    "id": "HvKz8gVSnjUV",
    "outputId": "23ca5d61-7c5d-4c43-d003-b630b9233f7b"
   },
   "outputs": [
    {
     "name": "stdout",
     "output_type": "stream",
     "text": [
      "['A', 1, 2, 3, 4]\n",
      "5\n",
      "['A', 1, 2, 3, 4, 'Z']\n",
      "['A', 1, 100.1, 2, 3, 4, 'Z']\n",
      "7\n",
      "[2, 3, 4]\n",
      "[1, 2, 3, 4, 500]\n",
      "[1, 2, 3, 4, 'z', 'y', 'x', 'w'] ['z', 'y', 'x', 'w']\n",
      "['z', 'y', 'w']\n",
      "['z', 'y', 'w']\n",
      "['z', 'y', 'x']\n",
      "[]\n",
      "2\n",
      "0\n",
      "1\n",
      "0\n",
      "4\n",
      "2\n",
      "4\n",
      "[10, 10, 20, 30, 40]\n",
      "[40, 30, 20, 10, 10]\n",
      "[10, 10, 20, 30, 40]\n"
     ]
    }
   ],
   "source": [
    "a = [1, 2, 3, 4]\n",
    "a.insert(0, 'A')\n",
    "print(a)\n",
    "print(len(a))\n",
    "a.insert(10, 'Z')\n",
    "print(a)\n",
    "a.insert(2, 100.100)\n",
    "print(a)\n",
    "print(len(a))\n",
    "#a[7] = 'sandeep'\n",
    "#print(a)\n",
    "\n",
    "a = [1, 2, 3, 4]\n",
    "del a[0]\n",
    "print(a)\n",
    "\n",
    "a = [1, 2, 3, 4]\n",
    "a.append(500)\n",
    "print(a)\n",
    "\n",
    "a = [1, 2, 3, 4]\n",
    "b = ['z', 'y', 'x', 'w']\n",
    "a.extend(b)\n",
    "print(a, b)\n",
    "\n",
    "b = ['z', 'y', 'x', 'w']\n",
    "b.remove('x')\n",
    "print(b)\n",
    "\n",
    "b = ['z', 'y', 'x', 'w']\n",
    "b.pop(2)\n",
    "print(b)\n",
    "\n",
    "b = ['z', 'y', 'x', 'w']\n",
    "b.pop()\n",
    "print(b)\n",
    "\n",
    "b = ['z', 'y', 'x', 'w']\n",
    "b.clear()\n",
    "print(b)\n",
    "\n",
    "b = ['z', 'y', 'x', 'w']\n",
    "del b\n",
    "#print(b)\n",
    "\n",
    "b = ['z', 'y', 'x', 'w', 'z']\n",
    "a = [10, 20, 30, 40, 10]\n",
    "print(b.count('z'))\n",
    "print(b.count('a'))\n",
    "print(b.count('x'))\n",
    "print(b.index('z'))\n",
    "print(b.index('z', 1))\n",
    "print(b.index('x', 1, 3))\n",
    "print(a.index(10, 1))\n",
    "a.sort()\n",
    "print(a)\n",
    "a.sort(reverse = True)\n",
    "print(a)\n",
    "a.reverse()\n",
    "print(a)"
   ]
  },
  {
   "cell_type": "code",
   "execution_count": null,
   "metadata": {
    "colab": {
     "base_uri": "https://localhost:8080/"
    },
    "id": "fWJVbN00vw4_",
    "outputId": "7ef54789-9753-41fd-aacd-5d40d02b6afa"
   },
   "outputs": [
    {
     "name": "stdout",
     "output_type": "stream",
     "text": [
      "10\n",
      "20\n",
      "30\n",
      "40\n",
      "50\n",
      "10\n",
      "20\n",
      "30\n",
      "40\n",
      "50\n",
      "10\n",
      "20\n",
      "30\n",
      "40\n",
      "50\n",
      "10\n",
      "20\n",
      "30\n",
      "40\n",
      "50\n",
      "[0, 1, 2, 3, 4]\n",
      "[0, 1]\n",
      "[]\n",
      "[1, 2, 3, 4]\n",
      "[5, 6, 7, 8, 9]\n",
      "[500, 505, 510, 515, 520]\n",
      "[]\n",
      "[525, 520, 515, 510, 505]\n",
      "[]\n",
      "[32, 43, 54]\n",
      "[[10, 21, 32, 43, 54], [10, 21, 32, 43, 54], [10, 21, 32, 43, 54]]\n",
      "[32, 43, 54]\n"
     ]
    }
   ],
   "source": [
    "# Loops\n",
    "a = [10, 20, 30, 40, 50]\n",
    "for i in a:\n",
    "  print(i)\n",
    "\n",
    "for i in range(len(a)):\n",
    "  print(a[i])\n",
    "\n",
    "for i in [0,1,2,3,4]:\n",
    "  print(a[i])\n",
    "\n",
    "i = 0\n",
    "while i < len(a):\n",
    "  print(a[i])\n",
    "  i += 1\n",
    "\n",
    "# for varibale in list\n",
    "# Loop block\n",
    "\n",
    "print(list(range(5)))\n",
    "print(list(range(2)))\n",
    "print(list(range(0)))\n",
    "print(list(range(1,5)))\n",
    "print(list(range(5,10)))\n",
    "print(list(range(500, 525, 5)))\n",
    "print(list(range(500, 525, -5)))\n",
    "print(list(range(525, 500, -5)))\n",
    "print(list(range(525, 500, 5)))\n",
    "\n",
    "a = [10, 21, 32, 43, 54]\n",
    "x = [i for i in a if i > 25]    # Comprehension\n",
    "print(x)\n",
    "\n",
    "a = [10, 21, 32, 43, 54]\n",
    "x = [a for i in a if i > 25]    # Comprehension\n",
    "print(x)\n",
    "\n",
    "x = []\n",
    "for i in a:\n",
    "  if i > 25:\n",
    "    x.append(i)\n",
    "print(x)\n",
    "\n"
   ]
  },
  {
   "cell_type": "code",
   "execution_count": null,
   "metadata": {
    "colab": {
     "base_uri": "https://localhost:8080/"
    },
    "id": "rn6X8bYz5QCJ",
    "outputId": "0fcf2aee-a9e1-4e8d-db4e-b7075ed98b3e"
   },
   "outputs": [
    {
     "name": "stdout",
     "output_type": "stream",
     "text": [
      "[1, 2, 3, ['a', 'b', 'c'], 100.1, 'sandeep', [10, 20, 30], (1, 2, 3)]\n",
      "['a', 'b', 'c']\n",
      "sandeep\n",
      "[10, 20, 30]\n",
      "20\n",
      "(1, 2, 3) <class 'list'> <class 'tuple'>\n"
     ]
    }
   ],
   "source": [
    "a = [1, 2, 3, ['a', 'b','c'], 100.100, 'sandeep', [10, 20, 30], (1, 2, 3)]\n",
    "print(a)\n",
    "print(a[3])\n",
    "print(a[5])\n",
    "print(a[6])\n",
    "print(a[6][1])\n",
    "print(a[7], type(a), type(a[7]))"
   ]
  },
  {
   "cell_type": "code",
   "execution_count": null,
   "metadata": {
    "colab": {
     "base_uri": "https://localhost:8080/"
    },
    "id": "458gar_38A_H",
    "outputId": "058091d3-ffcf-4ea0-aef3-49d248dbebf1"
   },
   "outputs": [
    {
     "name": "stdout",
     "output_type": "stream",
     "text": [
      "100\n",
      "100 <class 'str'>\n",
      "100\n",
      "100 <class 'int'>\n",
      "Enter the integer number only :100\n",
      "100 <class 'int'>\n"
     ]
    }
   ],
   "source": [
    "a = input()\n",
    "print(a, type(a))\n",
    "\n",
    "a = int(input())\n",
    "print(a, type(a))\n",
    "\n",
    "a = int(input(\"Enter the integer number only :\"))\n",
    "print(a, type(a))"
   ]
  },
  {
   "cell_type": "code",
   "execution_count": null,
   "metadata": {
    "colab": {
     "base_uri": "https://localhost:8080/"
    },
    "id": "sRAjNeXx9a3s",
    "outputId": "cf24132f-062c-4c7b-805b-7160a1827621"
   },
   "outputs": [
    {
     "name": "stdout",
     "output_type": "stream",
     "text": [
      "10\n",
      "20\n",
      "30\n"
     ]
    }
   ],
   "source": [
    "a = int(input())\n",
    "b = int(input())\n",
    "print(a+b)"
   ]
  },
  {
   "cell_type": "code",
   "execution_count": null,
   "metadata": {
    "colab": {
     "base_uri": "https://localhost:8080/"
    },
    "id": "B0QegcE59rxu",
    "outputId": "5f49fdea-43d8-4451-ca89-f7c7fb943727"
   },
   "outputs": [
    {
     "name": "stdout",
     "output_type": "stream",
     "text": [
      "10\n",
      "20\n",
      "30\n"
     ]
    }
   ],
   "source": [
    "def addition(a, b):\n",
    "  print(a + b)\n",
    "\n",
    "x = int(input())\n",
    "y = int(input())\n",
    "\n",
    "addition(x, y)"
   ]
  },
  {
   "cell_type": "code",
   "execution_count": null,
   "metadata": {
    "colab": {
     "base_uri": "https://localhost:8080/"
    },
    "id": "bLsiQ97z-bnP",
    "outputId": "5f7ea702-d5e4-4c81-ef28-b84f10106041"
   },
   "outputs": [
    {
     "name": "stdout",
     "output_type": "stream",
     "text": [
      "10\n",
      "20\n",
      "30\n"
     ]
    }
   ],
   "source": [
    "def addition(a, b):\n",
    "  return a + b\n",
    "\n",
    "x = int(input())\n",
    "y = int(input())\n",
    "\n",
    "z = addition(x, y)\n",
    "print(z)"
   ]
  },
  {
   "cell_type": "code",
   "execution_count": null,
   "metadata": {
    "colab": {
     "base_uri": "https://localhost:8080/"
    },
    "id": "fBov6-nd5B9c",
    "outputId": "4a26dbcc-1676-4db9-ab52-a1f7c3c2e603"
   },
   "outputs": [
    {
     "name": "stdout",
     "output_type": "stream",
     "text": [
      "<class 'list'> <class 'tuple'>\n",
      "1 1\n",
      "[100, 2, 3]\n",
      "(1, 2, 3) 3\n",
      "1 <class 'int'>\n",
      "(1,) <class 'tuple'>\n",
      "(1, 2, 3, 4) <class 'tuple'>\n",
      "('x', 'y', 'z') <class 'tuple'>\n",
      "(True, False, True, True) <class 'tuple'>\n",
      "(1, 2.0, True, 'x', [10, 20, 30], (100, 200, 300)) <class 'tuple'>\n",
      "(1, 2, 3, 4, 5, 6) <class 'tuple'>\n",
      "1 6\n",
      "(3, 4) (3, 4, 5)\n",
      "True\n",
      "False\n",
      "(1, 2, 300, 4, 5, 6)\n",
      "(1, 2, 300, 4, 5, 6, 1000)\n",
      "(1, 2, 3, 4, 5, 10) (10,)\n"
     ]
    }
   ],
   "source": [
    "# Tuple\n",
    "x = [1,2,3]\n",
    "y = (1,2,3)\n",
    "print(type(x), type(y))\n",
    "print(x[0], y[0])\n",
    "x[0] = 100\n",
    "print(x)\n",
    "#y[0] = 100\n",
    "print(y, len(y))\n",
    "a = (1)\n",
    "print(a, type(a))\n",
    "b = (1,)\n",
    "print(b, type(b))\n",
    "\n",
    "a = (1,2,3,4)\n",
    "print(a, type(a))\n",
    "a = ('x', 'y', 'z')\n",
    "print(a, type(a))\n",
    "a = (True,False,True,True)\n",
    "print(a, type(a))\n",
    "a = (1,2.0,True,'x',[10,20,30],(100,200,300))\n",
    "print(a, type(a))\n",
    "a = tuple((1,2,3,4,5,6))\n",
    "print(a, type(a))\n",
    "print(a[0], a[-1])\n",
    "print(a[2:4], a[-4:-1])\n",
    "print(5 in a)\n",
    "print(100 in a)\n",
    "\n",
    "b = list(a)\n",
    "b[2] = 300\n",
    "a = tuple(b)\n",
    "print(a)\n",
    "\n",
    "b = list(a)\n",
    "b.append(1000)\n",
    "a = tuple(b)\n",
    "print(a)\n",
    "\n",
    "a = (1,2,3,4,5)\n",
    "b = (10,)\n",
    "a += b\n",
    "print(a, b)\n",
    "\n",
    "del b\n",
    "#print(b)"
   ]
  },
  {
   "cell_type": "code",
   "execution_count": null,
   "metadata": {
    "colab": {
     "base_uri": "https://localhost:8080/"
    },
    "id": "ulAYVzdj_bSz",
    "outputId": "ea5129a1-84ee-4392-9b79-d45f2fc7a988"
   },
   "outputs": [
    {
     "name": "stdout",
     "output_type": "stream",
     "text": [
      "(10, 20) 10 20 <class 'tuple'> <class 'int'> <class 'int'>\n",
      "(10, 20, 30, 40, 50) 10 20 [30, 40, 50] <class 'tuple'> <class 'int'> <class 'int'> <class 'list'>\n",
      "(10, 20, 30, 40, 50) 10 [20, 30, 40] 50 <class 'tuple'> <class 'int'> <class 'list'> <class 'int'>\n",
      "(10, 20, 30, 40, 50) [10, 20, 30, 40, 50] <class 'tuple'> <class 'list'>\n"
     ]
    }
   ],
   "source": [
    "a = (10, 20) # Unpacking\n",
    "(x, y) = a\n",
    "print(a, x, y, type(a), type(x), type(y))\n",
    "\n",
    "a = (10, 20, 30, 40, 50)\n",
    "(x, y, *z) = a\n",
    "print(a, x, y, z, type(a), type(x), type(y), type(z))\n",
    "#(x, y, z) = a\n",
    "#print(a, x, y, z, type(a), type(x), type(y), type(z))\n",
    "(x, *y, z) = a\n",
    "print(a, x, y, z, type(a), type(x), type(y), type(z))\n",
    "#(*x) = a\n",
    "#print(a, x, type(a), type(x))\n",
    "(*x,) = a\n",
    "print(a, x, type(a), type(x))"
   ]
  },
  {
   "cell_type": "code",
   "execution_count": null,
   "metadata": {
    "colab": {
     "base_uri": "https://localhost:8080/"
    },
    "id": "2LCi79QCBhNj",
    "outputId": "e93ae17d-2271-49be-842c-09bd0f59b0b7"
   },
   "outputs": [
    {
     "name": "stdout",
     "output_type": "stream",
     "text": [
      "10\n",
      "20\n",
      "30\n",
      "40\n",
      "50\n",
      "10\n",
      "20\n",
      "30\n",
      "40\n",
      "50\n",
      "(10, 20, 30, 40, 50, 10, 20, 30, 40, 50, 10, 20, 30, 40, 50)\n",
      "3\n",
      "3\n",
      "4\n",
      "1\n"
     ]
    }
   ],
   "source": [
    "a = (10, 20, 30, 40, 50)\n",
    "for i in a:\n",
    "  print(i)\n",
    "\n",
    "for i in range(len(a)):\n",
    "  print(a[i])\n",
    "\n",
    "print(a * 3)\n",
    "b = a * 3\n",
    "print(b.count(50))\n",
    "print(b.count(20))\n",
    "print(b.index(50))\n",
    "print(b.index(20))"
   ]
  },
  {
   "cell_type": "code",
   "execution_count": null,
   "metadata": {
    "colab": {
     "base_uri": "https://localhost:8080/"
    },
    "id": "6217kGUDDuxT",
    "outputId": "3175c56b-0587-49f3-dad0-2f7e6e9ef1fb"
   },
   "outputs": [
    {
     "name": "stdout",
     "output_type": "stream",
     "text": [
      "Provide the value up to which you want to print fabonacci series:100\n",
      "[1, 1, 2, 3, 5, 8, 13, 21, 34, 55, 89]\n"
     ]
    }
   ],
   "source": [
    "# Fibonacci series: define a function named as fab(a, b). The sequence must be saved in a list and finally print the list.\n",
    "# [1, 1, 2, 3, 5, 8, 13]\n",
    "\n",
    "def fab(a, b):\n",
    "  return a + b\n",
    "\n",
    "x = int(input('Provide the value up to which you want to print fabonacci series:'))\n",
    "k, l, y = 1, 1, []\n",
    "y.append(k)\n",
    "y.append(l)\n",
    "while l<=x:\n",
    "  z = fab(k, l)\n",
    "  k, l = l, z\n",
    "  if l<=x:\n",
    "    y.append(l)\n",
    "\n",
    "print(y)"
   ]
  },
  {
   "cell_type": "code",
   "execution_count": null,
   "metadata": {
    "colab": {
     "base_uri": "https://localhost:8080/"
    },
    "id": "BHs5QrsSG8V3",
    "outputId": "d1244ccf-01f6-4cba-8a04-efe8ac9233de"
   },
   "outputs": [
    {
     "name": "stdout",
     "output_type": "stream",
     "text": [
      "Provide the value up to which you want to print fabonacci series:100\n",
      "[1, 1, 2, 3, 5, 8, 13, 21, 34, 55, 89]\n"
     ]
    }
   ],
   "source": [
    "def fab(a, b):\n",
    "  return a + b\n",
    "\n",
    "x = int(input('Provide the value up to which you want to print fabonacci series:'))\n",
    "k, l, y = 1, 1, []\n",
    "y.append(k)\n",
    "\n",
    "while l<=x:\n",
    "  y.append(l)\n",
    "  z = fab(k, l)\n",
    "  k, l = l, z\n",
    "\n",
    "print(y)"
   ]
  },
  {
   "cell_type": "code",
   "execution_count": null,
   "metadata": {
    "colab": {
     "base_uri": "https://localhost:8080/"
    },
    "id": "0IwtKOYRHRHj",
    "outputId": "fe523b04-353d-4510-c5ad-b72e74c8815d"
   },
   "outputs": [
    {
     "name": "stdout",
     "output_type": "stream",
     "text": [
      "Provide the value up to which you want to print fabonacci series:100\n",
      "[1, 1, 2, 3, 5, 8, 13, 21, 34, 55, 89]\n"
     ]
    }
   ],
   "source": [
    "def fab(a, b):\n",
    "  return a + b\n",
    "\n",
    "x = int(input('Provide the value up to which you want to print fabonacci series:'))\n",
    "k, l, y = 1, 1, []\n",
    "y.append(k)\n",
    "\n",
    "while l<=x:\n",
    "  y.append(l)\n",
    "  k, l = l, fab(k, l)\n",
    "\n",
    "print(y)"
   ]
  },
  {
   "cell_type": "code",
   "execution_count": null,
   "metadata": {
    "colab": {
     "base_uri": "https://localhost:8080/"
    },
    "id": "aINnlbw1IA2s",
    "outputId": "e47be97e-24e2-4c58-e615-bdf10eb4aec1"
   },
   "outputs": [
    {
     "name": "stdout",
     "output_type": "stream",
     "text": [
      "Enter limit: 100\n",
      "[0, 1, 1, 2, 3, 5, 8, 13, 21, 34, 55, 89]\n"
     ]
    }
   ],
   "source": [
    "# AMOGH PRABHU\n",
    "def fab(a,b):\n",
    "    l = []\n",
    "    n = int(input(\"Enter limit: \"))\n",
    "    while a<n:\n",
    "        l.append(a)\n",
    "        a,b = b,a+b\n",
    "    return l\n",
    "    \n",
    "print(fab(0,1)) "
   ]
  },
  {
   "cell_type": "code",
   "execution_count": null,
   "metadata": {
    "colab": {
     "base_uri": "https://localhost:8080/"
    },
    "id": "5YrG_dbqmf6r",
    "outputId": "7d3c53cb-12c9-4ed9-973a-a226d19ba6a3"
   },
   "outputs": [
    {
     "name": "stdout",
     "output_type": "stream",
     "text": [
      "Enter the positive number: 1000\n",
      "[500, 250, 125, 376, 188, 94, 47, 142, 71, 214, 107, 322, 161, 484, 242, 121, 364, 182, 91, 274, 137, 412, 206, 103, 310, 155, 466, 233, 700, 350, 175, 526, 263, 790, 395, 1186, 593, 1780, 890, 445, 1336, 668, 334, 167, 502, 251, 754, 377, 1132, 566, 283, 850, 425, 1276, 638, 319, 958, 479, 1438, 719, 2158, 1079, 3238, 1619, 4858, 2429, 7288, 3644, 1822, 911, 2734, 1367, 4102, 2051, 6154, 3077, 9232, 4616, 2308, 1154, 577, 1732, 866, 433, 1300, 650, 325, 976, 488, 244, 122, 61, 184, 92, 46, 23, 70, 35, 106, 53, 160, 80, 40, 20, 10, 5, 16, 8, 4, 2, 1]\n"
     ]
    }
   ],
   "source": [
    "# Collatz Sequence\n",
    "\n",
    "def collatz(a, l):\n",
    "  if len(l) > 2:\n",
    "    if l[len(l) - 1] == 1 and l[len(l) - 2] == 2 and l[len(l) - 3] == 4:\n",
    "      return\n",
    "    else:\n",
    "      if a%2 == 0:\n",
    "        a = int(a/2)\n",
    "      else:\n",
    "        a = 3 * a + 1\n",
    "      l += [a]\n",
    "      collatz(a, l)\n",
    "  else:\n",
    "    if a%2 == 0:\n",
    "      a = int(a/2)\n",
    "    else:\n",
    "      a = 3 * a + 1\n",
    "    l += [a]\n",
    "    collatz(a, l)\n",
    "\n",
    "l = []\n",
    "a = int(input('Enter the positive number: '))\n",
    "collatz(a, l)\n",
    "print(l)"
   ]
  },
  {
   "cell_type": "code",
   "execution_count": null,
   "metadata": {
    "colab": {
     "base_uri": "https://localhost:8080/"
    },
    "id": "SwBFqV7NrzKX",
    "outputId": "80881a5b-bdd4-49d7-d19a-e31b14cc62b8"
   },
   "outputs": [
    {
     "name": "stdout",
     "output_type": "stream",
     "text": [
      "{1, 2, 3} <class 'set'>\n",
      "{1, 2, 3, 4, 6} <class 'set'>\n",
      "{'z', 'y', 'x'} <class 'set'> 3\n",
      "{False, True} <class 'set'> 2\n",
      "{False, True, 2.0, 'x', ('l', 'm', 'n'), 1000, 10, 'sandeep'} <class 'set'> 8\n",
      "{1, 2, 3, 4, 5} <class 'set'> 5\n",
      "True\n",
      "False\n",
      "1\n",
      "2\n",
      "3\n",
      "4\n",
      "5\n",
      "{1, 2, 3, 4, 5, 100}\n",
      "{1, 2, 3, 'y', 'z', 'x'} {'z', 'y', 'x'}\n",
      "{1, 2, 3, 'x', 'y', 'z'} ['x', 'y', 'x', 'z']\n",
      "{1, 2, 3, 'x', 'y', 'z'} ('x', 'y', 'x', 'z')\n",
      "{'sandeep', 10, 'x'}\n",
      "{'sandeep', 10, 'x'}\n",
      "{'sandeep', 10, 20.2, 'x'}\n",
      "{10, 20.2, 'x'}\n"
     ]
    }
   ],
   "source": [
    "# Sets\n",
    "\n",
    "a = {1,2,3}\n",
    "print(a, type(a))\n",
    "\n",
    "a = {1,2,3,1,4,3,6}\n",
    "print(a, type(a))\n",
    "\n",
    "a = {'x', 'y', 'x', 'z', 'x'}\n",
    "print(a, type(a), len(a))\n",
    "\n",
    "a = {True, False, True, True, False}\n",
    "print(a, type(a), len(a))\n",
    "\n",
    "a = {10, 2.0, 'x', True, 'sandeep', ('l', 'm', 'n'), False, True, 1000}\n",
    "print(a, type(a), len(a))\n",
    "\n",
    "a = set((1,2,3,4,5,3,1))\n",
    "print(a, type(a), len(a))\n",
    "\n",
    "print(1 in a)\n",
    "print('1' in a)\n",
    "\n",
    "for i in a:\n",
    "  print(i)\n",
    "\n",
    "#print(a[0])\n",
    "\n",
    "a.add(100)\n",
    "print(a)\n",
    "\n",
    "a = {1, 2, 3}\n",
    "b = {'x', 'y', 'x', 'z'}\n",
    "a.update(b)\n",
    "print(a, b)\n",
    "\n",
    "a = {1, 2, 3}\n",
    "b = ['x', 'y', 'x', 'z']\n",
    "a.update(b)\n",
    "print(a, b)\n",
    "\n",
    "a = {1, 2, 3}\n",
    "b = ('x', 'y', 'x', 'z')\n",
    "a.update(b)\n",
    "print(a, b)\n",
    "\n",
    "a = {'x', 10, 20.2, 'sandeep'}\n",
    "a.remove(20.2)\n",
    "print(a)\n",
    "\n",
    "a = {'x', 10, 20.2, 'sandeep'}\n",
    "a.discard(20.2)\n",
    "print(a)\n",
    "\n",
    "a = {'x', 10, 20.2, 'sandeep'}\n",
    "a.discard(1000)\n",
    "print(a)\n",
    "#a.remove(1000)\n",
    "#print(a)\n",
    "\n",
    "a = {'x', 10, 20.2, 'sandeep'}\n",
    "a.pop()\n",
    "print(a)"
   ]
  },
  {
   "cell_type": "code",
   "execution_count": null,
   "metadata": {
    "colab": {
     "base_uri": "https://localhost:8080/"
    },
    "id": "S6qPHLko81HK",
    "outputId": "a2dd035b-f3ff-48ef-aa3c-a844e7cc1e3f"
   },
   "outputs": [
    {
     "name": "stdout",
     "output_type": "stream",
     "text": [
      "{'sandeep', 10, 20.2, 'x'}\n",
      "{10, 20.2, 'x'}\n",
      "set()\n",
      "{1, 2, 3, 'y', 'z', 'x'}\n",
      "{1}\n",
      "{2, 3, 'x', 'y', 'z'}\n"
     ]
    }
   ],
   "source": [
    "a = {'x', 10, 20.2, 'sandeep'}\n",
    "print(a)\n",
    "a.pop()\n",
    "print(a)\n",
    "\n",
    "a = {'x', 10, 20.2, 'sandeep'}\n",
    "a.clear()\n",
    "print(a)\n",
    "\n",
    "a = {'x', 10, 20.2, 'sandeep'}\n",
    "del a\n",
    "#print(a)\n",
    "\n",
    "a = {1, 2, 3}\n",
    "b = {'x', 'y', 'z', 'x', 1}\n",
    "c = a.union(b)\n",
    "print(c)\n",
    "\n",
    "c = a.intersection(b)\n",
    "print(c)\n",
    "\n",
    "c = a.symmetric_difference(b)\n",
    "print(c)"
   ]
  },
  {
   "cell_type": "code",
   "execution_count": null,
   "metadata": {
    "colab": {
     "base_uri": "https://localhost:8080/"
    },
    "id": "DkER2UHH_V-F",
    "outputId": "e6928d17-6b46-40b0-d9a3-55009ca55eaa"
   },
   "outputs": [
    {
     "name": "stdout",
     "output_type": "stream",
     "text": [
      "{'day': 'Monday', 'month': 'October', 'year': 2021} <class 'dict'> 3\n",
      "Monday 2021\n",
      "{'day': 'Sunday', 'month': 'October', 'year': 2021} Sunday\n",
      "{'name': 'Sandeep', 'boolean': True, 'year': 2021, 'sports': ['cricket', 'football', 'tennis']} <class 'dict'>\n",
      "Sandeep\n",
      "Sandeep\n",
      "dict_keys(['name', 'boolean', 'year', 'sports']) <class 'dict_keys'>\n",
      "{'name': 'VJTI', 'boolean': True, 'year': 2021, 'sports': ['cricket', 'football', 'tennis']}\n",
      "dict_values(['VJTI', True, 2021, ['cricket', 'football', 'tennis']]) <class 'builtin_function_or_method'>\n",
      "dict_values(['VJTI', True, 2021, ['cricket', 'football', 'tennis']])\n",
      "{'name': 'Mumbai', 'boolean': True, 'year': 2021, 'sports': ['cricket', 'football', 'tennis']} dict_values(['Mumbai', True, 2021, ['cricket', 'football', 'tennis']])\n",
      "dict_items([('name', 'Mumbai'), ('boolean', True), ('year', 2021), ('sports', ['cricket', 'football', 'tennis'])]) <class 'dict_items'>\n",
      "dict_items([('name', 'Mumbai'), ('boolean', True), ('year', 2021), ('sports', ['cricket', 'football', 'tennis'])])\n",
      "{'name': 'Maharashtra', 'boolean': True, 'year': 2021, 'sports': ['cricket', 'football', 'tennis']} dict_items([('name', 'Maharashtra'), ('boolean', True), ('year', 2021), ('sports', ['cricket', 'football', 'tennis'])])\n",
      "{'name': 'Maharashtra', 'boolean': True, 'year': 2021, 'sports': ['cricket', 'football', 'tennis'], 'country': 'India'}\n",
      "True\n",
      "False\n",
      "{'name': 'Maharashtra', 'boolean': False, 'year': 2021, 'sports': ['cricket', 'football', 'tennis'], 'country': 'India'}\n",
      "{'name': 'Maharashtra', 'boolean': False, 'year': 2021, 'sports': ['cricket', 'football', 'tennis'], 'country': 'India', 'district': 'Thane'}\n"
     ]
    }
   ],
   "source": [
    "# Dictionaries\n",
    "# Ordered, Key-value pair, no duplicates \n",
    "\n",
    "a = {'day': 'Monday', 'month':'October', 'year': 2021}\n",
    "print(a, type(a), len(a))\n",
    "print(a['day'], a['year'])\n",
    "\n",
    "a = {'day': 'Monday', 'month':'October', 'year': 2021, 'day': 'Sunday'}\n",
    "print(a, a['day'])\n",
    "\n",
    "a = {'name': 'Sandeep', 'boolean':True, 'year': 2021, 'sports':['cricket', 'football', 'tennis']}\n",
    "print(a, type(a))\n",
    "print(a['name'])\n",
    "print(a.get('name'))\n",
    "print(a.keys(), type(a.keys()))\n",
    "a['name'] = 'VJTI'\n",
    "print(a)\n",
    "print(a.values(), type(a.values))\n",
    "\n",
    "b = a.values()\n",
    "print(b)\n",
    "a['name'] = 'Mumbai'\n",
    "print(a, b)\n",
    "\n",
    "print(a.items(), type(a.items()))\n",
    "b = a.items()\n",
    "print(b)\n",
    "a['name'] = 'Maharashtra'\n",
    "print(a, b)\n",
    "\n",
    "a['country'] = 'India'\n",
    "print(a)\n",
    "print('country' in a)\n",
    "print('school' in a)\n",
    "\n",
    "a.update({'boolean': False})\n",
    "print(a)\n",
    "a.update({'district': 'Thane'})\n",
    "print(a)"
   ]
  },
  {
   "cell_type": "code",
   "execution_count": null,
   "metadata": {
    "colab": {
     "base_uri": "https://localhost:8080/"
    },
    "id": "Peqgi4F7HQez",
    "outputId": "9a3660ce-a16a-4f76-9a4b-48caf468a5fc"
   },
   "outputs": [
    {
     "name": "stdout",
     "output_type": "stream",
     "text": [
      "{'name': 'Sandeep', 'boolean': True, 'year': 2021, 'sports': ['cricket', 'football', 'tennis']}\n",
      "{'boolean': True, 'year': 2021, 'sports': ['cricket', 'football', 'tennis']}\n",
      "{'name': 'Sandeep', 'boolean': True, 'year': 2021, 'sports': ['cricket', 'football', 'tennis']}\n",
      "{'boolean': True, 'year': 2021, 'sports': ['cricket', 'football', 'tennis']}\n",
      "{'name': 'Sandeep', 'boolean': True, 'year': 2021, 'sports': ['cricket', 'football', 'tennis']}\n",
      "{'name': 'Sandeep', 'boolean': True, 'year': 2021}\n",
      "{'name': 'Sandeep', 'boolean': True, 'year': 2021, 'sports': ['cricket', 'football', 'tennis']}\n",
      "{}\n"
     ]
    }
   ],
   "source": [
    "a = {'name': 'Sandeep', 'boolean':True, 'year': 2021, 'sports':['cricket', 'football', 'tennis']}\n",
    "print(a)\n",
    "a.pop('name')\n",
    "print(a)\n",
    "\n",
    "a = {'name': 'Sandeep', 'boolean':True, 'year': 2021, 'sports':['cricket', 'football', 'tennis']}\n",
    "print(a)\n",
    "del a['name']\n",
    "print(a)\n",
    "\n",
    "a = {'name': 'Sandeep', 'boolean':True, 'year': 2021, 'sports':['cricket', 'football', 'tennis']}\n",
    "print(a)\n",
    "a.popitem()\n",
    "print(a)\n",
    "\n",
    "a = {'name': 'Sandeep', 'boolean':True, 'year': 2021, 'sports':['cricket', 'football', 'tennis']}\n",
    "print(a)\n",
    "a.clear()\n",
    "print(a)"
   ]
  },
  {
   "cell_type": "code",
   "execution_count": null,
   "metadata": {
    "colab": {
     "base_uri": "https://localhost:8080/"
    },
    "id": "WNs-wAuwIjwf",
    "outputId": "6d63d2e7-e3a0-4b37-80c1-3a38f46da774"
   },
   "outputs": [
    {
     "name": "stdout",
     "output_type": "stream",
     "text": [
      "name\n",
      "boolean\n",
      "year\n",
      "sports\n",
      "Sandeep\n",
      "True\n",
      "2021\n",
      "['cricket', 'football', 'tennis']\n",
      "name\n",
      "boolean\n",
      "year\n",
      "sports\n",
      "Sandeep\n",
      "True\n",
      "2021\n",
      "['cricket', 'football', 'tennis']\n",
      "name Sandeep\n",
      "boolean True\n",
      "year 2021\n",
      "sports ['cricket', 'football', 'tennis']\n"
     ]
    }
   ],
   "source": [
    "a = {'name': 'Sandeep', 'boolean':True, 'year': 2021, 'sports':['cricket', 'football', 'tennis']}\n",
    "\n",
    "for i in a:\n",
    "  print(i)\n",
    "\n",
    "for i in a:\n",
    "  print(a[i])\n",
    "\n",
    "for i in a.keys():\n",
    "  print(i)\n",
    "\n",
    "for i in a.values():\n",
    "  print(i)\n",
    "\n",
    "for i,j in a.items():\n",
    "  print(i, j)"
   ]
  },
  {
   "cell_type": "code",
   "execution_count": 5,
   "metadata": {
    "colab": {
     "base_uri": "https://localhost:8080/"
    },
    "id": "ikClTg1gQxwj",
    "outputId": "a6ec6689-bd4a-4991-cd48-9f19531aa467"
   },
   "outputs": [
    {
     "name": "stdout",
     "output_type": "stream",
     "text": [
      "{'student1': {'name': 'ABC', 'rn': 201080055, 'ay': 2020}, 'student2': {'name': 'XYZ', 'rn': 191080050, 'ay': 2019}, 'student3': {'name': 'LMN', 'rn': 211080061, 'ay': 2020}}\n",
      "201080055\n",
      "{'student1': {'name': 'ABC', 'rn': 201080055, 'ay': 2020}, 'student2': {'name': 'XYZ', 'rn': 191080050, 'ay': 2019}, 'student3': {'name': 'XYZ', 'rn': 191080050, 'ay': 2019}}\n",
      "201080055\n"
     ]
    }
   ],
   "source": [
    "student = {\n",
    "    'student1':{'name': 'ABC', 'rn':201080055, 'ay':2020},\n",
    "    'student2':{'name': 'XYZ', 'rn':191080050, 'ay':2019},\n",
    "    'student3':{'name': 'LMN', 'rn':211080061, 'ay':2020}\n",
    "}\n",
    "\n",
    "print(student)\n",
    "print(student['student1']['rn'])\n",
    "\n",
    "student1 = {'name': 'ABC', 'rn':201080055, 'ay':2020}\n",
    "student2 = {'name': 'XYZ', 'rn':191080050, 'ay':2019}\n",
    "student3 = {'name': 'LMN', 'rn':211080061, 'ay':2020}\n",
    "\n",
    "student = {\n",
    "    'student1': student1,\n",
    "    'student2': student2,\n",
    "    'student3': student2\n",
    "}\n",
    "\n",
    "print(student)\n",
    "print(student['student1']['rn'])"
   ]
  },
  {
   "cell_type": "code",
   "execution_count": 19,
   "metadata": {
    "colab": {
     "base_uri": "https://localhost:8080/"
    },
    "id": "jZWSWZ7lUBl7",
    "outputId": "ac2ee730-4c66-48d2-bc7d-2cd1867eb6a4"
   },
   "outputs": [
    {
     "name": "stdout",
     "output_type": "stream",
     "text": [
      "1\n",
      "3\n",
      "3\n",
      "1\n",
      "1\n",
      "2\n",
      "0\n",
      "1\n",
      "0\n",
      "1\n",
      "3\n",
      "4\n",
      "0\n",
      "1\n",
      "3\n",
      "4\n",
      "0\n",
      "1\n",
      "3\n",
      "4\n",
      "Finish\n"
     ]
    }
   ],
   "source": [
    "# Condition\n",
    "a, b, c = 1, 2, 3\n",
    "if a < b:\n",
    "  print(a)\n",
    "\n",
    "if b < a:\n",
    "  print(a)\n",
    "else:\n",
    "  if c > a:\n",
    "    print(c)\n",
    "\n",
    "if b < a:\n",
    "  print(a)\n",
    "elif c > a:\n",
    "    print(c)\n",
    "\n",
    "if a < b: print(a)\n",
    "\n",
    "print(a) if a < b else print(b)\n",
    "print(a) if a > b else print(b)\n",
    "\n",
    "if a < b:\n",
    "  pass\n",
    "\n",
    "for i in range(0,5):\n",
    "  if i == 2:\n",
    "    break\n",
    "  else:\n",
    "    print(i)\n",
    "\n",
    "for i in range(0,5):\n",
    "  if i == 2:\n",
    "    continue\n",
    "  else:\n",
    "    print(i)\n",
    "\n",
    "for i in range(0,5):\n",
    "  if i == 2:\n",
    "    pass\n",
    "  else:\n",
    "    print(i)\n",
    "\n",
    "for i in range(0,5):\n",
    "  if i == 2:\n",
    "    continue\n",
    "  else:\n",
    "    print(i)\n",
    "else:\n",
    "  print(\"Finish\")"
   ]
  },
  {
   "cell_type": "code",
   "execution_count": 37,
   "metadata": {
    "colab": {
     "base_uri": "https://localhost:8080/"
    },
    "id": "r9hx_GWAX8sn",
    "outputId": "0544ecfa-217d-4598-b51b-67f457e6df5d"
   },
   "outputs": [
    {
     "name": "stdout",
     "output_type": "stream",
     "text": [
      "Hi sandeep\n",
      "Name : Sandeep\n",
      "Name : Sachin\n",
      "Name : Gargi\n",
      "Name : Sandeep Sambhaji Udmale\n",
      "Name : Sachin Ramesh Tendulakr\n",
      "Name : Gargi Sandeep Udmale\n",
      "Name : Sandeep Sambhaji Udmale\n",
      "Name : Sandeep Sambhaji Udmale\n",
      "Name : Gargi Sandeep Udmale\n",
      "Name : Sandeep\n",
      "Name : Sachin\n",
      "Name : Gargi\n",
      "sum :  6\n"
     ]
    }
   ],
   "source": [
    "# Function\n",
    "def first_function():\n",
    "  print('Hi sandeep')\n",
    "\n",
    "first_function()\n",
    "\n",
    "def first_function(name):\n",
    "  print('Name : ' + name)\n",
    "\n",
    "first_function('Sandeep')\n",
    "first_function('Sachin')\n",
    "first_function('Gargi')\n",
    "\n",
    "def first_function(fname, mname, lname):\n",
    "  print('Name : ' + fname, mname, lname)\n",
    "\n",
    "first_function('Sandeep', 'Sambhaji', 'Udmale')\n",
    "first_function('Sachin','Ramesh', 'Tendulakr')\n",
    "first_function('Gargi', 'Sandeep', 'Udmale')\n",
    "#first_function('Nutan')\n",
    "\n",
    "def first_function(*name):\n",
    "  print('Name : ' + name[0], name[1], name[2])\n",
    "\n",
    "first_function('Sandeep', 'Sambhaji', 'Udmale')\n",
    "\n",
    "def first_function(fname, mname, lname):\n",
    "  print('Name : ' + fname, mname, lname)\n",
    "\n",
    "first_function(mname = 'Sambhaji', lname = 'Udmale', fname = 'Sandeep')\n",
    "first_function(lname = 'Udmale', fname = 'Gargi', mname = 'Sandeep')\n",
    "\n",
    "def first_function(name = 'Sandeep'):\n",
    "  print('Name : ' + name)\n",
    "\n",
    "first_function()\n",
    "first_function('Sachin')\n",
    "first_function('Gargi')\n",
    "\n",
    "def first_function(a):\n",
    "  sum = 0\n",
    "  for i in a:\n",
    "    sum += i\n",
    "  return sum\n",
    "\n",
    "l = [1, 2, 3]\n",
    "x = first_function(l)\n",
    "print('sum : ', x)\n",
    "\n",
    "def first_function():\n",
    "  pass\n",
    "\n",
    "first_function()"
   ]
  },
  {
   "cell_type": "code",
   "execution_count": 40,
   "metadata": {
    "colab": {
     "base_uri": "https://localhost:8080/"
    },
    "id": "1eeiE7uVeBK5",
    "outputId": "1855287b-93d2-44c3-b002-53ff2c61c406"
   },
   "outputs": [
    {
     "name": "stdout",
     "output_type": "stream",
     "text": [
      "Help on built-in function abs in module builtins:\n",
      "\n",
      "abs(x, /)\n",
      "    Return the absolute value of the argument.\n",
      "\n"
     ]
    }
   ],
   "source": [
    "help(abs)"
   ]
  },
  {
   "cell_type": "code",
   "execution_count": 42,
   "metadata": {
    "colab": {
     "base_uri": "https://localhost:8080/"
    },
    "id": "xhNEIgeXem0A",
    "outputId": "945f6d49-16fe-425b-d05f-2f10cc719b26"
   },
   "outputs": [
    {
     "name": "stdout",
     "output_type": "stream",
     "text": [
      "<class 'list'>\n"
     ]
    }
   ],
   "source": [
    "a = [1,2,3]\n",
    "print(type(a))"
   ]
  },
  {
   "cell_type": "code",
   "execution_count": 43,
   "metadata": {
    "colab": {
     "base_uri": "https://localhost:8080/"
    },
    "id": "SNqvJ_vOeasy",
    "outputId": "d373b5c6-337a-4d22-ba2c-c782e9d812b6"
   },
   "outputs": [
    {
     "name": "stdout",
     "output_type": "stream",
     "text": [
      "Help on class tuple in module builtins:\n",
      "\n",
      "class tuple(object)\n",
      " |  tuple(iterable=(), /)\n",
      " |  \n",
      " |  Built-in immutable sequence.\n",
      " |  \n",
      " |  If no argument is given, the constructor returns an empty tuple.\n",
      " |  If iterable is specified the tuple is initialized from iterable's items.\n",
      " |  \n",
      " |  If the argument is a tuple, the return value is the same object.\n",
      " |  \n",
      " |  Methods defined here:\n",
      " |  \n",
      " |  __add__(self, value, /)\n",
      " |      Return self+value.\n",
      " |  \n",
      " |  __contains__(self, key, /)\n",
      " |      Return key in self.\n",
      " |  \n",
      " |  __eq__(self, value, /)\n",
      " |      Return self==value.\n",
      " |  \n",
      " |  __ge__(self, value, /)\n",
      " |      Return self>=value.\n",
      " |  \n",
      " |  __getattribute__(self, name, /)\n",
      " |      Return getattr(self, name).\n",
      " |  \n",
      " |  __getitem__(self, key, /)\n",
      " |      Return self[key].\n",
      " |  \n",
      " |  __getnewargs__(self, /)\n",
      " |  \n",
      " |  __gt__(self, value, /)\n",
      " |      Return self>value.\n",
      " |  \n",
      " |  __hash__(self, /)\n",
      " |      Return hash(self).\n",
      " |  \n",
      " |  __iter__(self, /)\n",
      " |      Implement iter(self).\n",
      " |  \n",
      " |  __le__(self, value, /)\n",
      " |      Return self<=value.\n",
      " |  \n",
      " |  __len__(self, /)\n",
      " |      Return len(self).\n",
      " |  \n",
      " |  __lt__(self, value, /)\n",
      " |      Return self<value.\n",
      " |  \n",
      " |  __mul__(self, value, /)\n",
      " |      Return self*value.\n",
      " |  \n",
      " |  __ne__(self, value, /)\n",
      " |      Return self!=value.\n",
      " |  \n",
      " |  __repr__(self, /)\n",
      " |      Return repr(self).\n",
      " |  \n",
      " |  __rmul__(self, value, /)\n",
      " |      Return value*self.\n",
      " |  \n",
      " |  count(self, value, /)\n",
      " |      Return number of occurrences of value.\n",
      " |  \n",
      " |  index(self, value, start=0, stop=9223372036854775807, /)\n",
      " |      Return first index of value.\n",
      " |      \n",
      " |      Raises ValueError if the value is not present.\n",
      " |  \n",
      " |  ----------------------------------------------------------------------\n",
      " |  Static methods defined here:\n",
      " |  \n",
      " |  __new__(*args, **kwargs) from builtins.type\n",
      " |      Create and return a new object.  See help(type) for accurate signature.\n",
      "\n"
     ]
    }
   ],
   "source": [
    "help(tuple)"
   ]
  },
  {
   "cell_type": "code",
   "execution_count": null,
   "metadata": {},
   "outputs": [],
   "source": [
    "#Lambda Function\n",
    "#Lambda arguments:expression\n",
    "\n",
    "a = lambda x:x*2\n",
    "print(a(5))\n",
    "\n",
    "a = lambda x,y,z:x*y*z\n",
    "print(a(1,2,3))"
   ]
  },
  {
   "cell_type": "code",
   "execution_count": 1,
   "metadata": {},
   "outputs": [
    {
     "name": "stdout",
     "output_type": "stream",
     "text": [
      "200\n",
      "Help on function add in module __main__:\n",
      "\n",
      "add(x, y)\n",
      "    (int,int) -> int\n",
      "    Returns addition of two integer numbers.\n",
      "    \n",
      "    >>>add(1,2)\n",
      "    3\n",
      "    >>>add(100,10)\n",
      "    110\n",
      "\n"
     ]
    }
   ],
   "source": [
    "def add(x,y):\n",
    "    \"\"\"\n",
    "    (int,int) -> int\n",
    "    Returns addition of two integer numbers.\n",
    "    \n",
    "    >>>add(1,2)\n",
    "    3\n",
    "    >>>add(100,10)\n",
    "    110\n",
    "    \"\"\"\n",
    "    return int(x)+int(y)\n",
    "print(add(100,100))\n",
    "\n",
    "help(add)"
   ]
  },
  {
   "cell_type": "code",
   "execution_count": null,
   "metadata": {},
   "outputs": [],
   "source": [
    "#Exception handling - try except\n",
    "\n",
    "#print(x)    #Gives name error\n",
    "#print('Rushabh') #This wont get executed after as error occured\n",
    "\n",
    "try:\n",
    "    print(x)\n",
    "except:\n",
    "    print(\"Error:x is not defined\")"
   ]
  },
  {
   "cell_type": "code",
   "execution_count": null,
   "metadata": {},
   "outputs": [],
   "source": [
    "try:\n",
    "    print(x)  #here name error comes so name error exception will be displayed.If this isnt there then other error displayed\n",
    "    print(1/0)\n",
    "except NameError:\n",
    "    print('Error:x is not defined')\n",
    "except:\n",
    "    print('Other error')"
   ]
  },
  {
   "cell_type": "code",
   "execution_count": null,
   "metadata": {},
   "outputs": [],
   "source": [
    "try:\n",
    "    print('Rushabh Gala')\n",
    "    #print(x)  #if no exception the else will also be run.If there is exception the else wont run\n",
    "except:\n",
    "    print('Error x not defined')\n",
    "else:\n",
    "    print('vjti')"
   ]
  },
  {
   "cell_type": "code",
   "execution_count": null,
   "metadata": {},
   "outputs": [],
   "source": [
    "try:\n",
    "    print('Rushabh Gala')\n",
    "    print(x) \n",
    "except:\n",
    "    print('Error x not defined')\n",
    "else:\n",
    "    print('vjti')\n",
    "finally:\n",
    "    print('VJTI')     #finally block will be executed in any condition"
   ]
  },
  {
   "cell_type": "code",
   "execution_count": null,
   "metadata": {},
   "outputs": [],
   "source": [
    "import math\n",
    "def square(x):\n",
    "    if int(x) == 0:\n",
    "        raise ValueError('Input argument cannot be zero')\n",
    "    if int(x)<0:\n",
    "        raise TypeError('Input argument must be positive integer')\n",
    "    return math.pow(int(x),2)\n",
    "\n",
    "try:\n",
    "    y = square(input('Enter a number\\n'))\n",
    "    print(y)\n",
    "except (ValueError,TypeError) as e:\n",
    "    print(type(e),'::',e)"
   ]
  },
  {
   "cell_type": "code",
   "execution_count": null,
   "metadata": {},
   "outputs": [],
   "source": [
    "import sys\n",
    "randomList = ['a',0,2]\n",
    "\n",
    "for entry in randomList:\n",
    "    try:\n",
    "        print(\"Entry is\",entry)\n",
    "        r = 1/int(entry)\n",
    "        break\n",
    "    except:\n",
    "        print('Oops!',sys.exc_info()[0],'occured')\n",
    "        print('Next entry')\n",
    "        print()\n",
    "print(\"The reciprocal of\",entry,\"is\",r)"
   ]
  }
 ],
 "metadata": {
  "colab": {
   "collapsed_sections": [],
   "name": "PDL1.ipynb",
   "provenance": []
  },
  "kernelspec": {
   "display_name": "Python 3",
   "language": "python",
   "name": "python3"
  },
  "language_info": {
   "codemirror_mode": {
    "name": "ipython",
    "version": 3
   },
   "file_extension": ".py",
   "mimetype": "text/x-python",
   "name": "python",
   "nbconvert_exporter": "python",
   "pygments_lexer": "ipython3",
   "version": "3.7.9"
  },
  "vscode": {
   "interpreter": {
    "hash": "edb0d1ad0ff655c9ac0b12bdca16315991a94b1f6ef75f9262390e6df6500fba"
   }
  }
 },
 "nbformat": 4,
 "nbformat_minor": 1
}
