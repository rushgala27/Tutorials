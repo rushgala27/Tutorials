{
 "cells": [
  {
   "cell_type": "code",
   "execution_count": null,
   "metadata": {},
   "outputs": [],
   "source": [
    "#Structure of connecting to a database and running an SQL Query using sqlite3 in Python\n",
    "\n",
    "import sqlite3     #Importing the library for using sqlite3\n",
    "\n",
    "con = sqlite3.connect(\"testdata.db\")      #Connecting to the database 'testdata'\n",
    "#If the database does not exist a new file is created at the same location where you saved your Python script.\n",
    "\n",
    "cur = con.cursor()     #The cursor is what executes sql commands\n",
    "\n",
    "cur.execute(\"SQL Query\")\n",
    "#cur.execute executes the sql query inside the double quotes in the curved braces.\n",
    "\n",
    "con.commit()     #To commit the changes made to the database\n",
    "#REMEMBER: Without commiting the data will not be saved in the table.\n",
    "\n",
    "cur.close()      #Closing the cursor\n",
    "\n",
    "con.close()      #Closing the connection to database"
   ]
  },
  {
   "cell_type": "code",
   "execution_count": null,
   "metadata": {},
   "outputs": [],
   "source": [
    "# cur.execute(\"CREATE TABLE StudentData(name TEXT,lname TEXT,fname TEXT,mname TEXT,dob TEXT,bplace TEXT,nation TEXT,relig TEXT,caste TEXT,addr TEXT,mno TEXT,hei REAL,wei REAL,adno TEXT,gno INTEGER,doa TEXT,std TEXT,div TEXT,ctname TEXT,hcolor TEXT,rno INTEGER,trem TEXT,photo TEXT,username TEXT,password TEXT)\")\n",
    "\n",
    "#This example query is used to create a new table with specified columns and data types in the database."
   ]
  },
  {
   "cell_type": "code",
   "execution_count": null,
   "metadata": {},
   "outputs": [],
   "source": [
    "# cur.execute(\"INSERT INTO StudentData VALUES('Darshi','Kadani','Jignesh','Deepa','26/08/2002','Mumbai','Indian','Vaishnav','Hindu','123,Baburao Apt. , Shaitan gully , Khatra mehel , Andher nagar , Shamshaan ke saamne , Ghatkopar(West) , Mumbai-400077 , Maharashtra', 1234567890 , 154.4 , 47.6 ,'1234-5678-9101', 9999 ,'23/06/2012','10th','A','Anita Nair','Yellow', 18 ,'Weak in Maths.Need to focus more.','Photo2','Darshi999','darshik@26')\")\n",
    "\n",
    "#This query inserts data into the table StudentData"
   ]
  },
  {
   "cell_type": "code",
   "execution_count": null,
   "metadata": {},
   "outputs": [],
   "source": [
    "# cur.execute(\"SELECT * FROM StudentData\")\n",
    "# cur.fetchone()\n",
    "#cur.fetchall()\n",
    "\n",
    "#This query is used to get data from the table.\n",
    "#The 'fetchone()' command fetches the rows one by one and the 'fetchall()' fetches all the rows."
   ]
  },
  {
   "cell_type": "code",
   "execution_count": null,
   "metadata": {},
   "outputs": [],
   "source": [
    "# cur.execute(\"UPDATE StudentData SET lname = 'Kamani' WHERE name = 'Darshi'\")\n",
    "\n",
    "#This query is used to change the lname of entry where name ='Darshi' in StudentData"
   ]
  },
  {
   "cell_type": "code",
   "execution_count": null,
   "metadata": {},
   "outputs": [],
   "source": [
    "#cur.execute(\"DELETE FROM StudentData WHERE name='Darshi'\")\n",
    "\n",
    "#This query deletes the row where name is 'Darshi' from StudentData"
   ]
  }
 ],
 "metadata": {
  "kernelspec": {
   "display_name": "Python 3",
   "language": "python",
   "name": "python3"
  },
  "language_info": {
   "codemirror_mode": {
    "name": "ipython",
    "version": 3
   },
   "file_extension": ".py",
   "mimetype": "text/x-python",
   "name": "python",
   "nbconvert_exporter": "python",
   "pygments_lexer": "ipython3",
   "version": "3.7.9 (tags/v3.7.9:13c94747c7, Aug 17 2020, 16:30:00) [MSC v.1900 64 bit (AMD64)]"
  },
  "orig_nbformat": 4,
  "vscode": {
   "interpreter": {
    "hash": "edb0d1ad0ff655c9ac0b12bdca16315991a94b1f6ef75f9262390e6df6500fba"
   }
  }
 },
 "nbformat": 4,
 "nbformat_minor": 2
}
